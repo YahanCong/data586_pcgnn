{
 "cells": [
  {
   "cell_type": "code",
   "execution_count": 1,
   "id": "302bbb75",
   "metadata": {},
   "outputs": [],
   "source": [
    "import pandas as pd\n",
    "import numpy as np\n",
    "import pandas as pd\n",
    "import networkx as nx\n",
    "import matplotlib.pyplot as plt\n",
    "from datetime import datetime"
   ]
  },
  {
   "cell_type": "code",
   "execution_count": 28,
   "id": "e4f57735",
   "metadata": {},
   "outputs": [
    {
     "data": {
      "text/html": [
       "<div>\n",
       "<style scoped>\n",
       "    .dataframe tbody tr th:only-of-type {\n",
       "        vertical-align: middle;\n",
       "    }\n",
       "\n",
       "    .dataframe tbody tr th {\n",
       "        vertical-align: top;\n",
       "    }\n",
       "\n",
       "    .dataframe thead th {\n",
       "        text-align: right;\n",
       "    }\n",
       "</style>\n",
       "<table border=\"1\" class=\"dataframe\">\n",
       "  <thead>\n",
       "    <tr style=\"text-align: right;\">\n",
       "      <th></th>\n",
       "      <th>id</th>\n",
       "      <th>loanAmnt</th>\n",
       "      <th>term</th>\n",
       "      <th>interestRate</th>\n",
       "      <th>installment</th>\n",
       "      <th>grade</th>\n",
       "      <th>subGrade</th>\n",
       "      <th>employmentTitle</th>\n",
       "      <th>employmentLength</th>\n",
       "      <th>homeOwnership</th>\n",
       "      <th>...</th>\n",
       "      <th>n5</th>\n",
       "      <th>n6</th>\n",
       "      <th>n7</th>\n",
       "      <th>n8</th>\n",
       "      <th>n9</th>\n",
       "      <th>n10</th>\n",
       "      <th>n11</th>\n",
       "      <th>n12</th>\n",
       "      <th>n13</th>\n",
       "      <th>n14</th>\n",
       "    </tr>\n",
       "  </thead>\n",
       "  <tbody>\n",
       "    <tr>\n",
       "      <th>0</th>\n",
       "      <td>212188</td>\n",
       "      <td>4300.0</td>\n",
       "      <td>3</td>\n",
       "      <td>16.99</td>\n",
       "      <td>153.29</td>\n",
       "      <td>D</td>\n",
       "      <td>D3</td>\n",
       "      <td>54.0</td>\n",
       "      <td>NaN</td>\n",
       "      <td>1</td>\n",
       "      <td>...</td>\n",
       "      <td>3.0</td>\n",
       "      <td>9.0</td>\n",
       "      <td>3.0</td>\n",
       "      <td>6.0</td>\n",
       "      <td>2.0</td>\n",
       "      <td>3.0</td>\n",
       "      <td>0.0</td>\n",
       "      <td>0.0</td>\n",
       "      <td>0.0</td>\n",
       "      <td>3.0</td>\n",
       "    </tr>\n",
       "    <tr>\n",
       "      <th>1</th>\n",
       "      <td>299036</td>\n",
       "      <td>28000.0</td>\n",
       "      <td>3</td>\n",
       "      <td>5.32</td>\n",
       "      <td>843.22</td>\n",
       "      <td>A</td>\n",
       "      <td>A1</td>\n",
       "      <td>160.0</td>\n",
       "      <td>10+ years</td>\n",
       "      <td>0</td>\n",
       "      <td>...</td>\n",
       "      <td>8.0</td>\n",
       "      <td>23.0</td>\n",
       "      <td>8.0</td>\n",
       "      <td>19.0</td>\n",
       "      <td>3.0</td>\n",
       "      <td>11.0</td>\n",
       "      <td>0.0</td>\n",
       "      <td>0.0</td>\n",
       "      <td>0.0</td>\n",
       "      <td>0.0</td>\n",
       "    </tr>\n",
       "    <tr>\n",
       "      <th>2</th>\n",
       "      <td>475978</td>\n",
       "      <td>13000.0</td>\n",
       "      <td>3</td>\n",
       "      <td>17.57</td>\n",
       "      <td>467.19</td>\n",
       "      <td>D</td>\n",
       "      <td>D4</td>\n",
       "      <td>6426.0</td>\n",
       "      <td>10+ years</td>\n",
       "      <td>0</td>\n",
       "      <td>...</td>\n",
       "      <td>10.0</td>\n",
       "      <td>21.0</td>\n",
       "      <td>9.0</td>\n",
       "      <td>15.0</td>\n",
       "      <td>6.0</td>\n",
       "      <td>18.0</td>\n",
       "      <td>0.0</td>\n",
       "      <td>0.0</td>\n",
       "      <td>0.0</td>\n",
       "      <td>5.0</td>\n",
       "    </tr>\n",
       "    <tr>\n",
       "      <th>3</th>\n",
       "      <td>588988</td>\n",
       "      <td>10000.0</td>\n",
       "      <td>3</td>\n",
       "      <td>7.59</td>\n",
       "      <td>311.48</td>\n",
       "      <td>A</td>\n",
       "      <td>A3</td>\n",
       "      <td>62512.0</td>\n",
       "      <td>3 years</td>\n",
       "      <td>1</td>\n",
       "      <td>...</td>\n",
       "      <td>4.0</td>\n",
       "      <td>4.0</td>\n",
       "      <td>6.0</td>\n",
       "      <td>8.0</td>\n",
       "      <td>5.0</td>\n",
       "      <td>6.0</td>\n",
       "      <td>0.0</td>\n",
       "      <td>0.0</td>\n",
       "      <td>0.0</td>\n",
       "      <td>1.0</td>\n",
       "    </tr>\n",
       "    <tr>\n",
       "      <th>4</th>\n",
       "      <td>138859</td>\n",
       "      <td>7000.0</td>\n",
       "      <td>3</td>\n",
       "      <td>10.08</td>\n",
       "      <td>226.14</td>\n",
       "      <td>B</td>\n",
       "      <td>B1</td>\n",
       "      <td>118.0</td>\n",
       "      <td>4 years</td>\n",
       "      <td>0</td>\n",
       "      <td>...</td>\n",
       "      <td>4.0</td>\n",
       "      <td>11.0</td>\n",
       "      <td>5.0</td>\n",
       "      <td>12.0</td>\n",
       "      <td>2.0</td>\n",
       "      <td>9.0</td>\n",
       "      <td>0.0</td>\n",
       "      <td>0.0</td>\n",
       "      <td>0.0</td>\n",
       "      <td>1.0</td>\n",
       "    </tr>\n",
       "  </tbody>\n",
       "</table>\n",
       "<p>5 rows × 47 columns</p>\n",
       "</div>"
      ],
      "text/plain": [
       "       id  loanAmnt  term  interestRate  installment grade subGrade  \\\n",
       "0  212188    4300.0     3         16.99       153.29     D       D3   \n",
       "1  299036   28000.0     3          5.32       843.22     A       A1   \n",
       "2  475978   13000.0     3         17.57       467.19     D       D4   \n",
       "3  588988   10000.0     3          7.59       311.48     A       A3   \n",
       "4  138859    7000.0     3         10.08       226.14     B       B1   \n",
       "\n",
       "   employmentTitle employmentLength  homeOwnership  ...    n5    n6   n7  \\\n",
       "0             54.0              NaN              1  ...   3.0   9.0  3.0   \n",
       "1            160.0        10+ years              0  ...   8.0  23.0  8.0   \n",
       "2           6426.0        10+ years              0  ...  10.0  21.0  9.0   \n",
       "3          62512.0          3 years              1  ...   4.0   4.0  6.0   \n",
       "4            118.0          4 years              0  ...   4.0  11.0  5.0   \n",
       "\n",
       "     n8   n9   n10  n11  n12  n13  n14  \n",
       "0   6.0  2.0   3.0  0.0  0.0  0.0  3.0  \n",
       "1  19.0  3.0  11.0  0.0  0.0  0.0  0.0  \n",
       "2  15.0  6.0  18.0  0.0  0.0  0.0  5.0  \n",
       "3   8.0  5.0   6.0  0.0  0.0  0.0  1.0  \n",
       "4  12.0  2.0   9.0  0.0  0.0  0.0  1.0  \n",
       "\n",
       "[5 rows x 47 columns]"
      ]
     },
     "execution_count": 28,
     "metadata": {},
     "output_type": "execute_result"
    }
   ],
   "source": [
    "# trainData_origin = pd.read_csv(\"train.csv\")\n",
    "# trainData = trainData_origin.sample(n=10000, random_state=42)\n",
    "# trainData.head()\n",
    "# trainData.to_csv(\"train_data_subset.csv\", index=False)\n",
    "\n",
    "trainData = pd.read_csv(\"train_data_subset.csv\")\n",
    "trainData.head()"
   ]
  },
  {
   "cell_type": "code",
   "execution_count": 29,
   "id": "98966234",
   "metadata": {},
   "outputs": [
    {
     "data": {
      "text/plain": [
       "(10000, 47)"
      ]
     },
     "execution_count": 29,
     "metadata": {},
     "output_type": "execute_result"
    }
   ],
   "source": [
    "trainData.shape"
   ]
  },
  {
   "cell_type": "code",
   "execution_count": 30,
   "id": "ffcaafdb",
   "metadata": {},
   "outputs": [],
   "source": [
    "#trainData = trainData.head(100000)"
   ]
  },
  {
   "cell_type": "code",
   "execution_count": 31,
   "id": "b4a1c6e4",
   "metadata": {},
   "outputs": [
    {
     "name": "stdout",
     "output_type": "stream",
     "text": [
      "<class 'pandas.core.frame.DataFrame'>\n",
      "RangeIndex: 10000 entries, 0 to 9999\n",
      "Data columns (total 47 columns):\n",
      " #   Column              Non-Null Count  Dtype  \n",
      "---  ------              --------------  -----  \n",
      " 0   id                  10000 non-null  int64  \n",
      " 1   loanAmnt            10000 non-null  float64\n",
      " 2   term                10000 non-null  int64  \n",
      " 3   interestRate        10000 non-null  float64\n",
      " 4   installment         10000 non-null  float64\n",
      " 5   grade               10000 non-null  object \n",
      " 6   subGrade            10000 non-null  object \n",
      " 7   employmentTitle     10000 non-null  float64\n",
      " 8   employmentLength    9413 non-null   object \n",
      " 9   homeOwnership       10000 non-null  int64  \n",
      " 10  annualIncome        10000 non-null  float64\n",
      " 11  verificationStatus  10000 non-null  int64  \n",
      " 12  issueDate           10000 non-null  object \n",
      " 13  isDefault           10000 non-null  int64  \n",
      " 14  purpose             10000 non-null  int64  \n",
      " 15  postCode            10000 non-null  float64\n",
      " 16  regionCode          10000 non-null  int64  \n",
      " 17  dti                 9999 non-null   float64\n",
      " 18  delinquency_2years  10000 non-null  float64\n",
      " 19  ficoRangeLow        10000 non-null  float64\n",
      " 20  ficoRangeHigh       10000 non-null  float64\n",
      " 21  openAcc             10000 non-null  float64\n",
      " 22  pubRec              10000 non-null  float64\n",
      " 23  pubRecBankruptcies  9997 non-null   float64\n",
      " 24  revolBal            10000 non-null  float64\n",
      " 25  revolUtil           9996 non-null   float64\n",
      " 26  totalAcc            10000 non-null  float64\n",
      " 27  initialListStatus   10000 non-null  int64  \n",
      " 28  applicationType     10000 non-null  int64  \n",
      " 29  earliesCreditLine   10000 non-null  object \n",
      " 30  title               10000 non-null  float64\n",
      " 31  policyCode          10000 non-null  float64\n",
      " 32  n0                  9490 non-null   float64\n",
      " 33  n1                  9490 non-null   float64\n",
      " 34  n2                  9490 non-null   float64\n",
      " 35  n3                  9490 non-null   float64\n",
      " 36  n4                  9579 non-null   float64\n",
      " 37  n5                  9490 non-null   float64\n",
      " 38  n6                  9490 non-null   float64\n",
      " 39  n7                  9490 non-null   float64\n",
      " 40  n8                  9490 non-null   float64\n",
      " 41  n9                  9490 non-null   float64\n",
      " 42  n10                 9579 non-null   float64\n",
      " 43  n11                 9140 non-null   float64\n",
      " 44  n12                 9490 non-null   float64\n",
      " 45  n13                 9490 non-null   float64\n",
      " 46  n14                 9490 non-null   float64\n",
      "dtypes: float64(33), int64(9), object(5)\n",
      "memory usage: 3.6+ MB\n"
     ]
    }
   ],
   "source": [
    "trainData.info()"
   ]
  },
  {
   "cell_type": "code",
   "execution_count": 32,
   "id": "af5aa3bc",
   "metadata": {},
   "outputs": [
    {
     "data": {
      "text/plain": [
       "0    8092\n",
       "1    1908\n",
       "Name: isDefault, dtype: int64"
      ]
     },
     "execution_count": 32,
     "metadata": {},
     "output_type": "execute_result"
    }
   ],
   "source": [
    "trainData[\"isDefault\"].value_counts()"
   ]
  },
  {
   "cell_type": "code",
   "execution_count": 39,
   "id": "5e918f7b",
   "metadata": {},
   "outputs": [
    {
     "data": {
      "text/plain": [
       "0        0.95\n",
       "1       20.17\n",
       "2       13.05\n",
       "3       15.19\n",
       "4       22.61\n",
       "        ...  \n",
       "9995    14.98\n",
       "9996     8.51\n",
       "9997     5.94\n",
       "9998    19.56\n",
       "9999    24.83\n",
       "Name: dti, Length: 10000, dtype: float64"
      ]
     },
     "execution_count": 39,
     "metadata": {},
     "output_type": "execute_result"
    }
   ],
   "source": [
    "trainData[\"dti\"]"
   ]
  },
  {
   "cell_type": "code",
   "execution_count": 33,
   "id": "6f13348f",
   "metadata": {},
   "outputs": [],
   "source": [
    "# 转换 'earliesCreditLine' 列为 datetime 类型\n",
    "trainData['earliesCreditLine'] = pd.to_datetime(trainData['earliesCreditLine'], format='%b-%Y')\n",
    "\n",
    "# 设置一个特定的现在时间，即2023年12月\n",
    "specific_now = pd.Timestamp('2023-12')\n",
    "\n",
    "# 计算每个借款人从信用历史开始到特定日期（2023年12月）的月份数\n",
    "\n",
    "# trainData['CreditHistoryLength_months'] = (specific_now.year - trainData['earliesCreditLine'].dt.year) * 12 + specific_now.month - trainData['earliesCreditLine'].dt.month\n",
    "# trainData = trainData.drop([\"earliesCreditLine\"], axis = 1)\n",
    "\n",
    "trainData['earliesCreditLine'] = (specific_now.year - trainData['earliesCreditLine'].dt.year) * 12 + specific_now.month - trainData['earliesCreditLine'].dt.month\n",
    "\n",
    "# 转换issueDate 为年月日\n",
    "trainData['issueDate'] = pd.to_datetime(trainData['issueDate'])\n",
    "trainData['issueYear'] = trainData['issueDate'].dt.year\n",
    "trainData['issueMonth'] = trainData['issueDate'].dt.month\n",
    "trainData['issueDay'] = trainData['issueDate'].dt.day\n",
    "trainData = trainData.drop([\"issueDate\"], axis = 1)\n",
    "\n",
    "# 处理employmentLength\n",
    "trainData['employmentLength'].fillna('0 years', inplace=True)\n",
    "\n",
    "# 定义转换函数，处理字符串并转换为整数\n",
    "def convert_employment_length(length_str):\n",
    "    if length_str.strip() == '10+ years':\n",
    "        return 10  # 对于 '10+ years'，可以选择将其转换为 10 或其他值\n",
    "    else:\n",
    "        # 清理字符串并转换为整数\n",
    "        return int(length_str.strip().replace(' years', '').replace(' year', '').replace('< 1', '0'))\n",
    "\n",
    "# 应用转换函数\n",
    "# trainData['employmentLengthNumeric'] = trainData['employmentLength'].apply(convert_employment_length)\n",
    "# trainData = trainData.drop([\"employmentLength\"], axis = 1)\n",
    "\n",
    "trainData['employmentLength'] = trainData['employmentLength'].apply(convert_employment_length)\n",
    "\n",
    "\n",
    "grade_mapping = {\n",
    "    'A': 7,\n",
    "    'B': 6,\n",
    "    'C': 5,\n",
    "    'D': 4,\n",
    "    'E': 3,\n",
    "    'F': 2,\n",
    "    'G': 1\n",
    "}\n",
    "\n",
    "# 应用映射将 subGrade 字母转换为数字\n",
    "trainData['grade'] = trainData['grade'].map(grade_mapping)\n",
    "\n",
    "subgrade_mapping = {\n",
    "    'A': 70,\n",
    "    'B': 60,\n",
    "    'C': 50,\n",
    "    'D': 40,\n",
    "    'E': 30,\n",
    "    'F': 20,\n",
    "    'G': 10,\n",
    "}\n",
    "\n",
    "# 定义转换函数\n",
    "def convert_grade(grade_str):\n",
    "    if pd.isna(grade_str):\n",
    "        return None  # 处理可能的缺失值\n",
    "    # 提取字母部分和数字部分\n",
    "    letter = grade_str[0]\n",
    "    number = int(grade_str[1:])\n",
    "    # 计算总分数\n",
    "    return subgrade_mapping[letter] + number - 1  # 减1是因为我们想让数字部分从0开始算\n",
    "\n",
    "# 应用转换函数\n",
    "trainData['subGrade'] = trainData['subGrade'].apply(convert_grade)\n",
    "\n",
    "\n",
    "# 四舍五入最小和最大贷款金额到最近的5000的倍数\n",
    "min_loan_amt = int(np.floor(trainData['loanAmnt'].min() / 2000) * 2000)\n",
    "max_loan_amt = int(np.ceil(trainData['loanAmnt'].max() / 2000) * 2000)\n",
    "\n",
    "# 使用四舍五入后的值生成区间\n",
    "bins = list(range(min_loan_amt, max_loan_amt + 2000, 2000))\n",
    "\n",
    "# 计算每个区间的高值作为分类标签\n",
    "labels = [i + 2000 for i in bins[:-1]]  # 使用每个区间的最大值减1作为标签\n",
    "\n",
    "# 创建贷款金额分类\n",
    "trainData['loanAmnt_category'] = pd.cut(trainData['loanAmnt'], bins=bins, right=False, labels=labels)\n",
    "\n",
    "# 查看结果\n",
    "\n",
    "\n",
    "trainData['loanAmnt_category'] = trainData['loanAmnt_category'].cat.add_categories(0)\n",
    "\n",
    "\n",
    "# # 处理NA\n",
    "trainData = trainData.fillna(0)\n",
    "trainData['loanAmnt_category'] = trainData['loanAmnt_category'].astype(int)\n",
    "\n",
    "\n"
   ]
  },
  {
   "cell_type": "code",
   "execution_count": 34,
   "id": "becc3557",
   "metadata": {},
   "outputs": [
    {
     "data": {
      "text/plain": [
       "0        6000\n",
       "1       30000\n",
       "2       14000\n",
       "3       12000\n",
       "4        8000\n",
       "        ...  \n",
       "9995    26000\n",
       "9996     8000\n",
       "9997    20000\n",
       "9998    20000\n",
       "9999    10000\n",
       "Name: loanAmnt_category, Length: 10000, dtype: int32"
      ]
     },
     "execution_count": 34,
     "metadata": {},
     "output_type": "execute_result"
    }
   ],
   "source": [
    "trainData['loanAmnt_category']"
   ]
  },
  {
   "cell_type": "code",
   "execution_count": 35,
   "id": "0e0e0a90",
   "metadata": {},
   "outputs": [
    {
     "name": "stdout",
     "output_type": "stream",
     "text": [
      "<class 'pandas.core.frame.DataFrame'>\n",
      "RangeIndex: 10000 entries, 0 to 9999\n",
      "Data columns (total 50 columns):\n",
      " #   Column              Non-Null Count  Dtype  \n",
      "---  ------              --------------  -----  \n",
      " 0   id                  10000 non-null  int64  \n",
      " 1   loanAmnt            10000 non-null  float64\n",
      " 2   term                10000 non-null  int64  \n",
      " 3   interestRate        10000 non-null  float64\n",
      " 4   installment         10000 non-null  float64\n",
      " 5   grade               10000 non-null  int64  \n",
      " 6   subGrade            10000 non-null  int64  \n",
      " 7   employmentTitle     10000 non-null  float64\n",
      " 8   employmentLength    10000 non-null  int64  \n",
      " 9   homeOwnership       10000 non-null  int64  \n",
      " 10  annualIncome        10000 non-null  float64\n",
      " 11  verificationStatus  10000 non-null  int64  \n",
      " 12  isDefault           10000 non-null  int64  \n",
      " 13  purpose             10000 non-null  int64  \n",
      " 14  postCode            10000 non-null  float64\n",
      " 15  regionCode          10000 non-null  int64  \n",
      " 16  dti                 10000 non-null  float64\n",
      " 17  delinquency_2years  10000 non-null  float64\n",
      " 18  ficoRangeLow        10000 non-null  float64\n",
      " 19  ficoRangeHigh       10000 non-null  float64\n",
      " 20  openAcc             10000 non-null  float64\n",
      " 21  pubRec              10000 non-null  float64\n",
      " 22  pubRecBankruptcies  10000 non-null  float64\n",
      " 23  revolBal            10000 non-null  float64\n",
      " 24  revolUtil           10000 non-null  float64\n",
      " 25  totalAcc            10000 non-null  float64\n",
      " 26  initialListStatus   10000 non-null  int64  \n",
      " 27  applicationType     10000 non-null  int64  \n",
      " 28  earliesCreditLine   10000 non-null  int64  \n",
      " 29  title               10000 non-null  float64\n",
      " 30  policyCode          10000 non-null  float64\n",
      " 31  n0                  10000 non-null  float64\n",
      " 32  n1                  10000 non-null  float64\n",
      " 33  n2                  10000 non-null  float64\n",
      " 34  n3                  10000 non-null  float64\n",
      " 35  n4                  10000 non-null  float64\n",
      " 36  n5                  10000 non-null  float64\n",
      " 37  n6                  10000 non-null  float64\n",
      " 38  n7                  10000 non-null  float64\n",
      " 39  n8                  10000 non-null  float64\n",
      " 40  n9                  10000 non-null  float64\n",
      " 41  n10                 10000 non-null  float64\n",
      " 42  n11                 10000 non-null  float64\n",
      " 43  n12                 10000 non-null  float64\n",
      " 44  n13                 10000 non-null  float64\n",
      " 45  n14                 10000 non-null  float64\n",
      " 46  issueYear           10000 non-null  int64  \n",
      " 47  issueMonth          10000 non-null  int64  \n",
      " 48  issueDay            10000 non-null  int64  \n",
      " 49  loanAmnt_category   10000 non-null  int32  \n",
      "dtypes: float64(33), int32(1), int64(16)\n",
      "memory usage: 3.8 MB\n"
     ]
    }
   ],
   "source": [
    "trainData.info()"
   ]
  },
  {
   "cell_type": "markdown",
   "id": "e30475b6",
   "metadata": {},
   "source": [
    "# 数据清洗完毕，开始graph处理"
   ]
  },
  {
   "cell_type": "markdown",
   "id": "2c567d9f",
   "metadata": {},
   "source": [
    "1. 依据信用等级进行节点连接"
   ]
  },
  {
   "cell_type": "code",
   "execution_count": 10,
   "id": "bc2b11ac",
   "metadata": {},
   "outputs": [],
   "source": [
    "# import pandas as pd\n",
    "# import numpy as np\n",
    "# from scipy.sparse import coo_matrix\n",
    "# from scipy.io import savemat\n",
    "\n",
    "# # 假设 trainData 是你的 DataFrame，并已经加载了数据\n",
    "# # 数据包含 'id' 和 'grade'\n",
    "\n",
    "# # 将数据按照 'grade' 分组\n",
    "# grouped = trainData.groupby('grade')['id'].apply(np.array)\n",
    "\n",
    "# # 准备创建稀疏矩阵的数据\n",
    "# data = []\n",
    "# row_indices = []\n",
    "# col_indices = []\n",
    "\n",
    "# # 使用NumPy创建索引\n",
    "# for ids in grouped:\n",
    "#     if len(ids) > 1:\n",
    "#         # 创建一个索引数组，其中每个元素与后面所有元素配对一次\n",
    "#         ix_grid = np.triu_indices(len(ids), 1)\n",
    "#         row_indices.append(ids[ix_grid[0]])\n",
    "#         col_indices.append(ids[ix_grid[1]])\n",
    "#         data.append(np.ones(len(ids[ix_grid[0]]), dtype=int))\n",
    "\n",
    "# # 拼接数组\n",
    "# data = np.concatenate(data)\n",
    "# row_indices = np.concatenate(row_indices)\n",
    "# col_indices = np.concatenate(col_indices)\n",
    "\n",
    "# # 创建稀疏矩阵\n",
    "# max_id = trainData['id'].max() + 1\n",
    "# adjacency_matrix = coo_matrix((data, (row_indices, col_indices)), shape=(max_id, max_id))\n",
    "\n",
    "import pandas as pd\n",
    "import numpy as np\n",
    "from scipy.sparse import coo_matrix\n",
    "from scipy.io import savemat\n",
    "\n",
    "# 假设 trainData 是你的 DataFrame，并已经加载了数据\n",
    "# 数据包含 'id' 和 'grade'\n",
    "\n",
    "# 将数据按照 'grade' 分组\n",
    "grouped = trainData.groupby('subGrade').apply(lambda x: x.index.to_numpy())\n",
    "\n",
    "# 准备创建稀疏矩阵的数据\n",
    "data = []\n",
    "row_indices = []\n",
    "col_indices = []\n",
    "\n",
    "# 使用NumPy创建索引\n",
    "for indices in grouped:\n",
    "    if len(indices) > 1:\n",
    "        # 创建一个索引数组，其中每个元素与后面所有元素配对一次\n",
    "        ix_grid = np.triu_indices(len(indices), 1)\n",
    "        row_indices.append(indices[ix_grid[0]])\n",
    "        col_indices.append(indices[ix_grid[1]])\n",
    "        data.append(np.ones(len(indices[ix_grid[0]]), dtype=int))\n",
    "\n",
    "# 拼接数组\n",
    "data = np.concatenate(data)\n",
    "row_indices = np.concatenate(row_indices)\n",
    "col_indices = np.concatenate(col_indices)\n",
    "\n",
    "# 创建稀疏矩阵\n",
    "max_index = trainData.index.max() + 1\n",
    "adjacency_matrix_grade = coo_matrix((data, (row_indices, col_indices)), shape=(max_index, max_index))\n",
    "\n",
    "\n",
    "\n"
   ]
  },
  {
   "cell_type": "code",
   "execution_count": 11,
   "id": "6295edb7",
   "metadata": {},
   "outputs": [
    {
     "name": "stdout",
     "output_type": "stream",
     "text": [
      "Adjacency matrix saved to adjacency_grade.mat\n"
     ]
    }
   ],
   "source": [
    "# 保存稀疏矩阵为.mat文件\n",
    "mat_file_path = 'adjacency_grade.mat'\n",
    "savemat(mat_file_path, {'net_tgt': adjacency_matrix_grade})\n",
    "\n",
    "# 打印消息确认保存成功\n",
    "print(f\"Adjacency matrix saved to {mat_file_path}\")"
   ]
  },
  {
   "cell_type": "code",
   "execution_count": 12,
   "id": "2d1b0ae6",
   "metadata": {},
   "outputs": [
    {
     "name": "stdout",
     "output_type": "stream",
     "text": [
      "(10000, 10000)\n"
     ]
    }
   ],
   "source": [
    "# 显示稀疏矩阵信息\n",
    "print(adjacency_matrix_grade.shape)"
   ]
  },
  {
   "cell_type": "markdown",
   "id": "eec94ca8",
   "metadata": {},
   "source": [
    "2. 依据purpose进行节点连接"
   ]
  },
  {
   "cell_type": "code",
   "execution_count": 15,
   "id": "bd0e3579",
   "metadata": {},
   "outputs": [
    {
     "data": {
      "text/plain": [
       "array([ 0,  4,  2,  3,  5,  8,  6,  9, 11, 10,  7,  1, 12, 13],\n",
       "      dtype=int64)"
      ]
     },
     "execution_count": 15,
     "metadata": {},
     "output_type": "execute_result"
    }
   ],
   "source": [
    "trainData[\"purpose\"].unique()"
   ]
  },
  {
   "cell_type": "code",
   "execution_count": 15,
   "id": "2e72300c",
   "metadata": {},
   "outputs": [],
   "source": [
    "# import pandas as pd\n",
    "# import numpy as np\n",
    "# from scipy.sparse import coo_matrix\n",
    "# from scipy.io import savemat\n",
    "\n",
    "# # 假设 trainData 是你的 DataFrame，并已经加载了数据\n",
    "# # 数据包含 'id' 和 'grade'\n",
    "\n",
    "# # 将数据按照 'purpose' 分组\n",
    "# grouped = trainData.groupby('purpose')['id'].apply(np.array)\n",
    "\n",
    "# # 准备创建稀疏矩阵的数据\n",
    "# data = []\n",
    "# row_indices = []\n",
    "# col_indices = []\n",
    "\n",
    "# # 使用NumPy创建索引\n",
    "# for ids in grouped:\n",
    "#     if len(ids) > 1:\n",
    "#         # 创建一个索引数组，其中每个元素与后面所有元素配对一次\n",
    "#         ix_grid = np.triu_indices(len(ids), 1)\n",
    "#         row_indices.append(ids[ix_grid[0]])\n",
    "#         col_indices.append(ids[ix_grid[1]])\n",
    "#         data.append(np.ones(len(ids[ix_grid[0]]), dtype=int))\n",
    "\n",
    "# # 拼接数组\n",
    "# data = np.concatenate(data)\n",
    "# row_indices = np.concatenate(row_indices)\n",
    "# col_indices = np.concatenate(col_indices)\n",
    "\n",
    "# # 创建稀疏矩阵\n",
    "# max_id = trainData['id'].max() + 1\n",
    "# adjacency_matrix = coo_matrix((data, (row_indices, col_indices)), shape=(max_id, max_id))\n",
    "\n",
    "import pandas as pd\n",
    "import numpy as np\n",
    "from scipy.sparse import coo_matrix\n",
    "from scipy.io import savemat\n",
    "\n",
    "# 假设 trainData 是你的 DataFrame，并已经加载了数据\n",
    "# 数据包含 'id' 和 'grade'\n",
    "\n",
    "# 将数据按照 'grade' 分组\n",
    "grouped = trainData.groupby('purpose').apply(lambda x: x.index.to_numpy())\n",
    "\n",
    "# 准备创建稀疏矩阵的数据\n",
    "data = []\n",
    "row_indices = []\n",
    "col_indices = []\n",
    "\n",
    "# 使用NumPy创建索引\n",
    "for indices in grouped:\n",
    "    if len(indices) > 1:\n",
    "        # 创建一个索引数组，其中每个元素与后面所有元素配对一次\n",
    "        ix_grid = np.triu_indices(len(indices), 1)\n",
    "        row_indices.append(indices[ix_grid[0]])\n",
    "        col_indices.append(indices[ix_grid[1]])\n",
    "        data.append(np.ones(len(indices[ix_grid[0]]), dtype=int))\n",
    "\n",
    "# 拼接数组\n",
    "data = np.concatenate(data)\n",
    "row_indices = np.concatenate(row_indices)\n",
    "col_indices = np.concatenate(col_indices)\n",
    "\n",
    "# 创建稀疏矩阵\n",
    "max_index = trainData.index.max() + 1\n",
    "adjacency_matrix_purpose = coo_matrix((data, (row_indices, col_indices)), shape=(max_index, max_index))\n",
    "\n",
    "\n",
    "\n"
   ]
  },
  {
   "cell_type": "code",
   "execution_count": 16,
   "id": "54bb98b1",
   "metadata": {},
   "outputs": [
    {
     "name": "stdout",
     "output_type": "stream",
     "text": [
      "(10000, 10000)\n"
     ]
    }
   ],
   "source": [
    "print(adjacency_matrix_purpose.shape)"
   ]
  },
  {
   "cell_type": "code",
   "execution_count": 17,
   "id": "27d41342",
   "metadata": {},
   "outputs": [
    {
     "name": "stdout",
     "output_type": "stream",
     "text": [
      "Adjacency matrix saved to adjacency_purpose.mat\n"
     ]
    }
   ],
   "source": [
    "# 保存稀疏矩阵为.mat文件\n",
    "mat_file_path = 'adjacency_purpose.mat'\n",
    "savemat(mat_file_path, {'net_tpt': adjacency_matrix_purpose})\n",
    "\n",
    "# 打印消息确认保存成功\n",
    "print(f\"Adjacency matrix saved to {mat_file_path}\")"
   ]
  },
  {
   "cell_type": "markdown",
   "id": "73917f5d",
   "metadata": {},
   "source": [
    "3. 地理位置链接"
   ]
  },
  {
   "cell_type": "code",
   "execution_count": 18,
   "id": "c0f6d6ef",
   "metadata": {},
   "outputs": [],
   "source": [
    "#sorted(trainData[\"regionCode\"].unique())"
   ]
  },
  {
   "cell_type": "code",
   "execution_count": 16,
   "id": "50cc3eff",
   "metadata": {},
   "outputs": [],
   "source": [
    "# import pandas as pd\n",
    "# import numpy as np\n",
    "# from scipy.sparse import coo_matrix\n",
    "# from scipy.io import savemat\n",
    "\n",
    "# # 假设 trainData 是你的 DataFrame，并已经加载了数据\n",
    "# # 数据包含 'id' 和 'grade'\n",
    "\n",
    "# # 将数据按照 'purpose' 分组\n",
    "# grouped = trainData.groupby('regionCode')['id'].apply(np.array)\n",
    "\n",
    "# # 准备创建稀疏矩阵的数据\n",
    "# data = []\n",
    "# row_indices = []\n",
    "# col_indices = []\n",
    "\n",
    "# # 使用NumPy创建索引\n",
    "# for ids in grouped:\n",
    "#     if len(ids) > 1:\n",
    "#         # 创建一个索引数组，其中每个元素与后面所有元素配对一次\n",
    "#         ix_grid = np.triu_indices(len(ids), 1)\n",
    "#         row_indices.append(ids[ix_grid[0]])\n",
    "#         col_indices.append(ids[ix_grid[1]])\n",
    "#         data.append(np.ones(len(ids[ix_grid[0]]), dtype=int))\n",
    "\n",
    "# # 拼接数组\n",
    "# data = np.concatenate(data)\n",
    "# row_indices = np.concatenate(row_indices)\n",
    "# col_indices = np.concatenate(col_indices)\n",
    "\n",
    "# # 创建稀疏矩阵\n",
    "# max_id = trainData['id'].max() + 1\n",
    "# adjacency_matrix = coo_matrix((data, (row_indices, col_indices)), shape=(max_id, max_id))\n",
    "\n",
    "import pandas as pd\n",
    "import numpy as np\n",
    "from scipy.sparse import coo_matrix\n",
    "from scipy.io import savemat\n",
    "\n",
    "# 假设 trainData 是你的 DataFrame，并已经加载了数据\n",
    "# 数据包含 'id' 和 'grade'\n",
    "\n",
    "# 将数据按照 'grade' 分组\n",
    "grouped = trainData.groupby('postCode').apply(lambda x: x.index.to_numpy())\n",
    "\n",
    "# 准备创建稀疏矩阵的数据\n",
    "data = []\n",
    "row_indices = []\n",
    "col_indices = []\n",
    "\n",
    "# 使用NumPy创建索引\n",
    "for indices in grouped:\n",
    "    if len(indices) > 1:\n",
    "        # 创建一个索引数组，其中每个元素与后面所有元素配对一次\n",
    "        ix_grid = np.triu_indices(len(indices), 1)\n",
    "        row_indices.append(indices[ix_grid[0]])\n",
    "        col_indices.append(indices[ix_grid[1]])\n",
    "        data.append(np.ones(len(indices[ix_grid[0]]), dtype=int))\n",
    "\n",
    "# 拼接数组\n",
    "data = np.concatenate(data)\n",
    "row_indices = np.concatenate(row_indices)\n",
    "col_indices = np.concatenate(col_indices)\n",
    "\n",
    "# 创建稀疏矩阵\n",
    "max_index = trainData.index.max() + 1\n",
    "adjacency_matrix_geo = coo_matrix((data, (row_indices, col_indices)), shape=(max_index, max_index))\n"
   ]
  },
  {
   "cell_type": "code",
   "execution_count": 17,
   "id": "b1341250",
   "metadata": {},
   "outputs": [
    {
     "name": "stdout",
     "output_type": "stream",
     "text": [
      "Adjacency matrix saved to adjacency_geo.mat\n"
     ]
    }
   ],
   "source": [
    "# 保存稀疏矩阵为.mat文件\n",
    "mat_file_path = 'adjacency_geo.mat'\n",
    "savemat(mat_file_path, {'net_trt': adjacency_matrix_geo})\n",
    "\n",
    "# 打印消息确认保存成功\n",
    "print(f\"Adjacency matrix saved to {mat_file_path}\")"
   ]
  },
  {
   "cell_type": "markdown",
   "id": "ab3e792a",
   "metadata": {},
   "source": [
    "4. 按照贷款金额区间链接"
   ]
  },
  {
   "cell_type": "code",
   "execution_count": 36,
   "id": "3430aac4",
   "metadata": {},
   "outputs": [
    {
     "data": {
      "text/plain": [
       "0        6000\n",
       "1       30000\n",
       "2       14000\n",
       "3       12000\n",
       "4        8000\n",
       "        ...  \n",
       "9995    26000\n",
       "9996     8000\n",
       "9997    20000\n",
       "9998    20000\n",
       "9999    10000\n",
       "Name: loanAmnt_category, Length: 10000, dtype: int32"
      ]
     },
     "execution_count": 36,
     "metadata": {},
     "output_type": "execute_result"
    }
   ],
   "source": [
    "trainData[\"loanAmnt_category\"]"
   ]
  },
  {
   "cell_type": "code",
   "execution_count": 37,
   "id": "44fe79a7",
   "metadata": {},
   "outputs": [],
   "source": [
    "import pandas as pd\n",
    "import numpy as np\n",
    "from scipy.sparse import coo_matrix\n",
    "from scipy.io import savemat\n",
    "\n",
    "# 假设 trainData 是你的 DataFrame，并已经加载了数据\n",
    "# 数据包含 'id' 和 'grade'\n",
    "\n",
    "# 将数据按照 'grade' 分组\n",
    "grouped = trainData.groupby('loanAmnt_category').apply(lambda x: x.index.to_numpy())\n",
    "\n",
    "# 准备创建稀疏矩阵的数据\n",
    "data = []\n",
    "row_indices = []\n",
    "col_indices = []\n",
    "\n",
    "# 使用NumPy创建索引\n",
    "for indices in grouped:\n",
    "    if len(indices) > 1:\n",
    "        # 创建一个索引数组，其中每个元素与后面所有元素配对一次\n",
    "        ix_grid = np.triu_indices(len(indices), 1)\n",
    "        row_indices.append(indices[ix_grid[0]])\n",
    "        col_indices.append(indices[ix_grid[1]])\n",
    "        data.append(np.ones(len(indices[ix_grid[0]]), dtype=int))\n",
    "\n",
    "# 拼接数组\n",
    "data = np.concatenate(data)\n",
    "row_indices = np.concatenate(row_indices)\n",
    "col_indices = np.concatenate(col_indices)\n",
    "\n",
    "# 创建稀疏矩阵\n",
    "max_index = trainData.index.max() + 1\n",
    "adjacency_matrix_loan = coo_matrix((data, (row_indices, col_indices)), shape=(max_index, max_index))"
   ]
  },
  {
   "cell_type": "code",
   "execution_count": 38,
   "id": "c35715a7",
   "metadata": {},
   "outputs": [
    {
     "name": "stdout",
     "output_type": "stream",
     "text": [
      "Adjacency matrix saved to adjacency_loamAmt.mat\n"
     ]
    }
   ],
   "source": [
    "# 保存稀疏矩阵为.mat文件\n",
    "mat_file_path = 'adjacency_loamAmt.mat'\n",
    "savemat(mat_file_path, {'net_tat': adjacency_matrix_loan})\n",
    "\n",
    "# 打印消息确认保存成功\n",
    "print(f\"Adjacency matrix saved to {mat_file_path}\")"
   ]
  },
  {
   "cell_type": "markdown",
   "id": "4bd3c244",
   "metadata": {},
   "source": [
    "5. label 储存"
   ]
  },
  {
   "cell_type": "code",
   "execution_count": 24,
   "id": "a0b7bf91",
   "metadata": {},
   "outputs": [
    {
     "data": {
      "text/plain": [
       "0       1\n",
       "1       0\n",
       "2       0\n",
       "3       0\n",
       "4       0\n",
       "       ..\n",
       "9995    0\n",
       "9996    0\n",
       "9997    1\n",
       "9998    0\n",
       "9999    0\n",
       "Name: isDefault, Length: 10000, dtype: int64"
      ]
     },
     "execution_count": 24,
     "metadata": {},
     "output_type": "execute_result"
    }
   ],
   "source": [
    "trainData[\"isDefault\"]"
   ]
  },
  {
   "cell_type": "code",
   "execution_count": 25,
   "id": "b178c01a",
   "metadata": {},
   "outputs": [],
   "source": [
    "from scipy.io import savemat\n",
    "\n",
    "# 假设 trainData 是一个 pandas DataFrame\n",
    "trainData_dict = {\"label\": trainData[\"isDefault\"].values}\n",
    "\n",
    "# 将数据保存为 .mat 文件\n",
    "savemat(\"label.mat\", trainData_dict)\n"
   ]
  },
  {
   "cell_type": "code",
   "execution_count": 26,
   "id": "493eac3a",
   "metadata": {},
   "outputs": [
    {
     "name": "stdout",
     "output_type": "stream",
     "text": [
      "<class 'pandas.core.frame.DataFrame'>\n",
      "RangeIndex: 10000 entries, 0 to 9999\n",
      "Data columns (total 50 columns):\n",
      " #   Column              Non-Null Count  Dtype  \n",
      "---  ------              --------------  -----  \n",
      " 0   id                  10000 non-null  int64  \n",
      " 1   loanAmnt            10000 non-null  float64\n",
      " 2   term                10000 non-null  int64  \n",
      " 3   interestRate        10000 non-null  float64\n",
      " 4   installment         10000 non-null  float64\n",
      " 5   grade               10000 non-null  int64  \n",
      " 6   subGrade            10000 non-null  int64  \n",
      " 7   employmentTitle     10000 non-null  float64\n",
      " 8   employmentLength    10000 non-null  int64  \n",
      " 9   homeOwnership       10000 non-null  int64  \n",
      " 10  annualIncome        10000 non-null  float64\n",
      " 11  verificationStatus  10000 non-null  int64  \n",
      " 12  isDefault           10000 non-null  int64  \n",
      " 13  purpose             10000 non-null  int64  \n",
      " 14  postCode            10000 non-null  float64\n",
      " 15  regionCode          10000 non-null  int64  \n",
      " 16  dti                 10000 non-null  float64\n",
      " 17  delinquency_2years  10000 non-null  float64\n",
      " 18  ficoRangeLow        10000 non-null  float64\n",
      " 19  ficoRangeHigh       10000 non-null  float64\n",
      " 20  openAcc             10000 non-null  float64\n",
      " 21  pubRec              10000 non-null  float64\n",
      " 22  pubRecBankruptcies  10000 non-null  float64\n",
      " 23  revolBal            10000 non-null  float64\n",
      " 24  revolUtil           10000 non-null  float64\n",
      " 25  totalAcc            10000 non-null  float64\n",
      " 26  initialListStatus   10000 non-null  int64  \n",
      " 27  applicationType     10000 non-null  int64  \n",
      " 28  earliesCreditLine   10000 non-null  int64  \n",
      " 29  title               10000 non-null  float64\n",
      " 30  policyCode          10000 non-null  float64\n",
      " 31  n0                  10000 non-null  float64\n",
      " 32  n1                  10000 non-null  float64\n",
      " 33  n2                  10000 non-null  float64\n",
      " 34  n3                  10000 non-null  float64\n",
      " 35  n4                  10000 non-null  float64\n",
      " 36  n5                  10000 non-null  float64\n",
      " 37  n6                  10000 non-null  float64\n",
      " 38  n7                  10000 non-null  float64\n",
      " 39  n8                  10000 non-null  float64\n",
      " 40  n9                  10000 non-null  float64\n",
      " 41  n10                 10000 non-null  float64\n",
      " 42  n11                 10000 non-null  float64\n",
      " 43  n12                 10000 non-null  float64\n",
      " 44  n13                 10000 non-null  float64\n",
      " 45  n14                 10000 non-null  float64\n",
      " 46  issueYear           10000 non-null  int64  \n",
      " 47  issueMonth          10000 non-null  int64  \n",
      " 48  issueDay            10000 non-null  int64  \n",
      " 49  loanAmnt_category   10000 non-null  int32  \n",
      "dtypes: float64(33), int32(1), int64(16)\n",
      "memory usage: 3.8 MB\n"
     ]
    }
   ],
   "source": [
    "trainData.info()"
   ]
  },
  {
   "cell_type": "code",
   "execution_count": 27,
   "id": "933b98a8",
   "metadata": {},
   "outputs": [
    {
     "name": "stdout",
     "output_type": "stream",
     "text": [
      "<class 'pandas.core.frame.DataFrame'>\n",
      "RangeIndex: 10000 entries, 0 to 9999\n",
      "Data columns (total 48 columns):\n",
      " #   Column              Non-Null Count  Dtype  \n",
      "---  ------              --------------  -----  \n",
      " 0   loanAmnt            10000 non-null  float64\n",
      " 1   term                10000 non-null  int64  \n",
      " 2   interestRate        10000 non-null  float64\n",
      " 3   installment         10000 non-null  float64\n",
      " 4   grade               10000 non-null  int64  \n",
      " 5   subGrade            10000 non-null  int64  \n",
      " 6   employmentTitle     10000 non-null  float64\n",
      " 7   employmentLength    10000 non-null  int64  \n",
      " 8   homeOwnership       10000 non-null  int64  \n",
      " 9   annualIncome        10000 non-null  float64\n",
      " 10  verificationStatus  10000 non-null  int64  \n",
      " 11  purpose             10000 non-null  int64  \n",
      " 12  postCode            10000 non-null  float64\n",
      " 13  regionCode          10000 non-null  int64  \n",
      " 14  dti                 10000 non-null  float64\n",
      " 15  delinquency_2years  10000 non-null  float64\n",
      " 16  ficoRangeLow        10000 non-null  float64\n",
      " 17  ficoRangeHigh       10000 non-null  float64\n",
      " 18  openAcc             10000 non-null  float64\n",
      " 19  pubRec              10000 non-null  float64\n",
      " 20  pubRecBankruptcies  10000 non-null  float64\n",
      " 21  revolBal            10000 non-null  float64\n",
      " 22  revolUtil           10000 non-null  float64\n",
      " 23  totalAcc            10000 non-null  float64\n",
      " 24  initialListStatus   10000 non-null  int64  \n",
      " 25  applicationType     10000 non-null  int64  \n",
      " 26  earliesCreditLine   10000 non-null  int64  \n",
      " 27  title               10000 non-null  float64\n",
      " 28  policyCode          10000 non-null  float64\n",
      " 29  n0                  10000 non-null  float64\n",
      " 30  n1                  10000 non-null  float64\n",
      " 31  n2                  10000 non-null  float64\n",
      " 32  n3                  10000 non-null  float64\n",
      " 33  n4                  10000 non-null  float64\n",
      " 34  n5                  10000 non-null  float64\n",
      " 35  n6                  10000 non-null  float64\n",
      " 36  n7                  10000 non-null  float64\n",
      " 37  n8                  10000 non-null  float64\n",
      " 38  n9                  10000 non-null  float64\n",
      " 39  n10                 10000 non-null  float64\n",
      " 40  n11                 10000 non-null  float64\n",
      " 41  n12                 10000 non-null  float64\n",
      " 42  n13                 10000 non-null  float64\n",
      " 43  n14                 10000 non-null  float64\n",
      " 44  issueYear           10000 non-null  int64  \n",
      " 45  issueMonth          10000 non-null  int64  \n",
      " 46  issueDay            10000 non-null  int64  \n",
      " 47  loanAmnt_category   10000 non-null  int32  \n",
      "dtypes: float64(33), int32(1), int64(14)\n",
      "memory usage: 3.6 MB\n"
     ]
    }
   ],
   "source": [
    "trainData_features = trainData.drop([\"id\",\"isDefault\"], axis = 1)\n",
    "trainData_features.info()"
   ]
  },
  {
   "cell_type": "code",
   "execution_count": 28,
   "id": "4ad82109",
   "metadata": {},
   "outputs": [
    {
     "data": {
      "text/html": [
       "<div>\n",
       "<style scoped>\n",
       "    .dataframe tbody tr th:only-of-type {\n",
       "        vertical-align: middle;\n",
       "    }\n",
       "\n",
       "    .dataframe tbody tr th {\n",
       "        vertical-align: top;\n",
       "    }\n",
       "\n",
       "    .dataframe thead th {\n",
       "        text-align: right;\n",
       "    }\n",
       "</style>\n",
       "<table border=\"1\" class=\"dataframe\">\n",
       "  <thead>\n",
       "    <tr style=\"text-align: right;\">\n",
       "      <th></th>\n",
       "      <th>loanAmnt</th>\n",
       "      <th>term</th>\n",
       "      <th>interestRate</th>\n",
       "      <th>installment</th>\n",
       "      <th>grade</th>\n",
       "      <th>subGrade</th>\n",
       "      <th>employmentTitle</th>\n",
       "      <th>employmentLength</th>\n",
       "      <th>homeOwnership</th>\n",
       "      <th>annualIncome</th>\n",
       "      <th>...</th>\n",
       "      <th>n9</th>\n",
       "      <th>n10</th>\n",
       "      <th>n11</th>\n",
       "      <th>n12</th>\n",
       "      <th>n13</th>\n",
       "      <th>n14</th>\n",
       "      <th>issueYear</th>\n",
       "      <th>issueMonth</th>\n",
       "      <th>issueDay</th>\n",
       "      <th>loanAmnt_category</th>\n",
       "    </tr>\n",
       "  </thead>\n",
       "  <tbody>\n",
       "    <tr>\n",
       "      <th>0</th>\n",
       "      <td>4300.0</td>\n",
       "      <td>3</td>\n",
       "      <td>16.99</td>\n",
       "      <td>153.29</td>\n",
       "      <td>4</td>\n",
       "      <td>42</td>\n",
       "      <td>54.0</td>\n",
       "      <td>0</td>\n",
       "      <td>1</td>\n",
       "      <td>86000.0</td>\n",
       "      <td>...</td>\n",
       "      <td>2.0</td>\n",
       "      <td>3.0</td>\n",
       "      <td>0.0</td>\n",
       "      <td>0.0</td>\n",
       "      <td>0.0</td>\n",
       "      <td>3.0</td>\n",
       "      <td>2014</td>\n",
       "      <td>10</td>\n",
       "      <td>1</td>\n",
       "      <td>4999</td>\n",
       "    </tr>\n",
       "    <tr>\n",
       "      <th>1</th>\n",
       "      <td>28000.0</td>\n",
       "      <td>3</td>\n",
       "      <td>5.32</td>\n",
       "      <td>843.22</td>\n",
       "      <td>7</td>\n",
       "      <td>70</td>\n",
       "      <td>160.0</td>\n",
       "      <td>10</td>\n",
       "      <td>0</td>\n",
       "      <td>106000.0</td>\n",
       "      <td>...</td>\n",
       "      <td>3.0</td>\n",
       "      <td>11.0</td>\n",
       "      <td>0.0</td>\n",
       "      <td>0.0</td>\n",
       "      <td>0.0</td>\n",
       "      <td>0.0</td>\n",
       "      <td>2015</td>\n",
       "      <td>10</td>\n",
       "      <td>1</td>\n",
       "      <td>29999</td>\n",
       "    </tr>\n",
       "    <tr>\n",
       "      <th>2</th>\n",
       "      <td>13000.0</td>\n",
       "      <td>3</td>\n",
       "      <td>17.57</td>\n",
       "      <td>467.19</td>\n",
       "      <td>4</td>\n",
       "      <td>43</td>\n",
       "      <td>6426.0</td>\n",
       "      <td>10</td>\n",
       "      <td>0</td>\n",
       "      <td>39000.0</td>\n",
       "      <td>...</td>\n",
       "      <td>6.0</td>\n",
       "      <td>18.0</td>\n",
       "      <td>0.0</td>\n",
       "      <td>0.0</td>\n",
       "      <td>0.0</td>\n",
       "      <td>5.0</td>\n",
       "      <td>2015</td>\n",
       "      <td>7</td>\n",
       "      <td>1</td>\n",
       "      <td>14999</td>\n",
       "    </tr>\n",
       "    <tr>\n",
       "      <th>3</th>\n",
       "      <td>10000.0</td>\n",
       "      <td>3</td>\n",
       "      <td>7.59</td>\n",
       "      <td>311.48</td>\n",
       "      <td>7</td>\n",
       "      <td>72</td>\n",
       "      <td>62512.0</td>\n",
       "      <td>3</td>\n",
       "      <td>1</td>\n",
       "      <td>50000.0</td>\n",
       "      <td>...</td>\n",
       "      <td>5.0</td>\n",
       "      <td>6.0</td>\n",
       "      <td>0.0</td>\n",
       "      <td>0.0</td>\n",
       "      <td>0.0</td>\n",
       "      <td>1.0</td>\n",
       "      <td>2016</td>\n",
       "      <td>7</td>\n",
       "      <td>1</td>\n",
       "      <td>14999</td>\n",
       "    </tr>\n",
       "    <tr>\n",
       "      <th>4</th>\n",
       "      <td>7000.0</td>\n",
       "      <td>3</td>\n",
       "      <td>10.08</td>\n",
       "      <td>226.14</td>\n",
       "      <td>6</td>\n",
       "      <td>60</td>\n",
       "      <td>118.0</td>\n",
       "      <td>4</td>\n",
       "      <td>0</td>\n",
       "      <td>50000.0</td>\n",
       "      <td>...</td>\n",
       "      <td>2.0</td>\n",
       "      <td>9.0</td>\n",
       "      <td>0.0</td>\n",
       "      <td>0.0</td>\n",
       "      <td>0.0</td>\n",
       "      <td>1.0</td>\n",
       "      <td>2018</td>\n",
       "      <td>8</td>\n",
       "      <td>1</td>\n",
       "      <td>9999</td>\n",
       "    </tr>\n",
       "  </tbody>\n",
       "</table>\n",
       "<p>5 rows × 48 columns</p>\n",
       "</div>"
      ],
      "text/plain": [
       "   loanAmnt  term  interestRate  installment  grade  subGrade  \\\n",
       "0    4300.0     3         16.99       153.29      4        42   \n",
       "1   28000.0     3          5.32       843.22      7        70   \n",
       "2   13000.0     3         17.57       467.19      4        43   \n",
       "3   10000.0     3          7.59       311.48      7        72   \n",
       "4    7000.0     3         10.08       226.14      6        60   \n",
       "\n",
       "   employmentTitle  employmentLength  homeOwnership  annualIncome  ...   n9  \\\n",
       "0             54.0                 0              1       86000.0  ...  2.0   \n",
       "1            160.0                10              0      106000.0  ...  3.0   \n",
       "2           6426.0                10              0       39000.0  ...  6.0   \n",
       "3          62512.0                 3              1       50000.0  ...  5.0   \n",
       "4            118.0                 4              0       50000.0  ...  2.0   \n",
       "\n",
       "    n10  n11  n12  n13  n14  issueYear  issueMonth  issueDay  \\\n",
       "0   3.0  0.0  0.0  0.0  3.0       2014          10         1   \n",
       "1  11.0  0.0  0.0  0.0  0.0       2015          10         1   \n",
       "2  18.0  0.0  0.0  0.0  5.0       2015           7         1   \n",
       "3   6.0  0.0  0.0  0.0  1.0       2016           7         1   \n",
       "4   9.0  0.0  0.0  0.0  1.0       2018           8         1   \n",
       "\n",
       "   loanAmnt_category  \n",
       "0               4999  \n",
       "1              29999  \n",
       "2              14999  \n",
       "3              14999  \n",
       "4               9999  \n",
       "\n",
       "[5 rows x 48 columns]"
      ]
     },
     "execution_count": 28,
     "metadata": {},
     "output_type": "execute_result"
    }
   ],
   "source": [
    "trainData_features.head()"
   ]
  },
  {
   "cell_type": "code",
   "execution_count": 29,
   "id": "777186eb",
   "metadata": {},
   "outputs": [],
   "source": [
    "feature_matrix = trainData_features.values\n",
    "feature_matrix\n",
    "\n",
    "from scipy import io as sio\n",
    "sio.savemat('trainData_features.mat', {'features': feature_matrix})\n"
   ]
  },
  {
   "cell_type": "code",
   "execution_count": 37,
   "id": "79259a8b",
   "metadata": {},
   "outputs": [],
   "source": [
    "from scipy.sparse import csr_matrix, hstack\n",
    "homo_matrix = hstack([adjacency_matrix_grade, adjacency_matrix_purpose,adjacency_matrix_geo,adjacency_matrix_loan])"
   ]
  },
  {
   "cell_type": "code",
   "execution_count": 38,
   "id": "f6cd5404",
   "metadata": {},
   "outputs": [
    {
     "name": "stdout",
     "output_type": "stream",
     "text": [
      "[[0 0 1 0 0]\n",
      " [0 0 0 1 0]\n",
      " [0 0 0 0 0]\n",
      " [0 0 0 0 0]\n",
      " [0 0 0 0 0]]\n"
     ]
    }
   ],
   "source": [
    "print(homo_matrix.toarray()[:5, :5])  # 打印左上角的5x5子矩阵\n"
   ]
  },
  {
   "cell_type": "code",
   "execution_count": 44,
   "id": "2a7f39f3",
   "metadata": {},
   "outputs": [],
   "source": [
    "combined_matrix = adjacency_matrix_grade + adjacency_matrix_purpose + adjacency_matrix_geo + adjacency_matrix_loan\n",
    "combined_matrix.data[combined_matrix.data > 1] = 1"
   ]
  },
  {
   "cell_type": "code",
   "execution_count": 45,
   "id": "a6b95bd7",
   "metadata": {},
   "outputs": [
    {
     "name": "stdout",
     "output_type": "stream",
     "text": [
      "[[0 1 1 1 1]\n",
      " [0 0 1 1 1]\n",
      " [0 0 0 1 1]\n",
      " [0 0 0 0 1]\n",
      " [0 0 0 0 0]]\n"
     ]
    }
   ],
   "source": [
    "print(combined_matrix.toarray()[:5, :5])"
   ]
  },
  {
   "cell_type": "code",
   "execution_count": 46,
   "id": "6cda99d9",
   "metadata": {},
   "outputs": [],
   "source": [
    "mat_file_path = 'homo_matrix.mat'\n",
    "\n",
    "# 保存稀疏矩阵为MAT文件\n",
    "savemat(mat_file_path, {'homo': combined_matrix})"
   ]
  },
  {
   "cell_type": "code",
   "execution_count": 48,
   "id": "881296df",
   "metadata": {},
   "outputs": [],
   "source": [
    "mat_file_path = 'AlibabaLoan.mat'\n",
    "\n",
    "label_array = trainData[\"isDefault\"].values.astype(int)\n",
    "\n",
    "# 准备要保存的矩阵\n",
    "matrices_dict = {\n",
    "    'features': feature_matrix,\n",
    "    'label':label_array,\n",
    "    'homo': combined_matrix,\n",
    "    'net_tgt': adjacency_matrix_grade,\n",
    "    'net_tpt': adjacency_matrix_purpose,\n",
    "    'net_trt': adjacency_matrix_geo,\n",
    "    'net_tat': adjacency_matrix_loan,\n",
    "}\n",
    "savemat(mat_file_path, matrices_dict)"
   ]
  },
  {
   "cell_type": "code",
   "execution_count": 33,
   "id": "876a3469",
   "metadata": {},
   "outputs": [],
   "source": [
    "# from scipy.io import loadmat\n",
    "# from scipy.io import loadmat, savemat\n",
    "# from scipy.sparse import hstack\n",
    "\n",
    "# mat_file1 = loadmat('adjacency_grade.mat')\n",
    "# mat_file2 = loadmat('adjacency_purpose.mat')\n",
    "# mat_file3 = loadmat('adjacency_geo.mat')\n",
    "# mat_file4 = loadmat('adjacency_loamAmt.mat')\n",
    "\n",
    "# # 获取稀疏矩阵\n",
    "# sparse_matrix1 = mat_file1['net_tgt']\n",
    "# sparse_matrix2 = mat_file2['net_tpt']\n",
    "# sparse_matrix3 = mat_file3['net_trt']\n",
    "# sparse_matrix4 = mat_file4['net_tat']\n",
    "\n",
    "# # 合并稀疏矩阵\n",
    "# merged_sparse_matrix = hstack([sparse_matrix1, sparse_matrix2,sparse_matrix3,sparse_matrix4])\n",
    "\n",
    "# # 保存合并后的稀疏矩阵为MAT文件\n",
    "# savemat('homo_matrix.mat', {'homo': merged_sparse_matrix})"
   ]
  },
  {
   "cell_type": "code",
   "execution_count": 34,
   "id": "71df683e",
   "metadata": {},
   "outputs": [],
   "source": [
    "# savemat('homo_matrix.mat', {'homo': merged_sparse_matrix}, format='5')"
   ]
  },
  {
   "cell_type": "code",
   "execution_count": 15,
   "id": "d6330bde",
   "metadata": {},
   "outputs": [
    {
     "name": "stdout",
     "output_type": "stream",
     "text": [
      "[('net_tgt', (50000, 50000), 'sparse')]\n",
      "[('net_tpt', (50000, 50000), 'sparse')]\n",
      "[('net_trt', (50000, 50000), 'sparse')]\n",
      "[('net_tat', (50000, 50000), 'sparse')]\n"
     ]
    }
   ],
   "source": [
    "from scipy.io import whosmat\n",
    "\n",
    "# 打印MAT文件中的变量信息\n",
    "print(whosmat('adjacency_grade.mat'))\n",
    "print(whosmat('adjacency_purpose.mat'))\n",
    "print(whosmat('adjacency_geo.mat'))\n",
    "print(whosmat('adjacency_loamAmt.mat'))"
   ]
  },
  {
   "cell_type": "code",
   "execution_count": null,
   "id": "07d4d46f",
   "metadata": {},
   "outputs": [],
   "source": []
  }
 ],
 "metadata": {
  "kernelspec": {
   "display_name": "Python 3 (ipykernel)",
   "language": "python",
   "name": "python3"
  },
  "language_info": {
   "codemirror_mode": {
    "name": "ipython",
    "version": 3
   },
   "file_extension": ".py",
   "mimetype": "text/x-python",
   "name": "python",
   "nbconvert_exporter": "python",
   "pygments_lexer": "ipython3",
   "version": "3.9.13"
  },
  "varInspector": {
   "cols": {
    "lenName": 16,
    "lenType": 16,
    "lenVar": 40
   },
   "kernels_config": {
    "python": {
     "delete_cmd_postfix": "",
     "delete_cmd_prefix": "del ",
     "library": "var_list.py",
     "varRefreshCmd": "print(var_dic_list())"
    },
    "r": {
     "delete_cmd_postfix": ") ",
     "delete_cmd_prefix": "rm(",
     "library": "var_list.r",
     "varRefreshCmd": "cat(var_dic_list()) "
    }
   },
   "types_to_exclude": [
    "module",
    "function",
    "builtin_function_or_method",
    "instance",
    "_Feature"
   ],
   "window_display": false
  }
 },
 "nbformat": 4,
 "nbformat_minor": 5
}
