{
 "cells": [
  {
   "cell_type": "code",
   "execution_count": 81,
   "id": "302bbb75",
   "metadata": {},
   "outputs": [],
   "source": [
    "import pandas as pd\n",
    "import numpy as np\n",
    "import pandas as pd\n",
    "import networkx as nx\n",
    "import matplotlib.pyplot as plt\n",
    "from datetime import datetime"
   ]
  },
  {
   "cell_type": "code",
   "execution_count": 82,
   "id": "e4f57735",
   "metadata": {},
   "outputs": [
    {
     "data": {
      "text/html": [
       "<div>\n",
       "<style scoped>\n",
       "    .dataframe tbody tr th:only-of-type {\n",
       "        vertical-align: middle;\n",
       "    }\n",
       "\n",
       "    .dataframe tbody tr th {\n",
       "        vertical-align: top;\n",
       "    }\n",
       "\n",
       "    .dataframe thead th {\n",
       "        text-align: right;\n",
       "    }\n",
       "</style>\n",
       "<table border=\"1\" class=\"dataframe\">\n",
       "  <thead>\n",
       "    <tr style=\"text-align: right;\">\n",
       "      <th></th>\n",
       "      <th>id</th>\n",
       "      <th>loanAmnt</th>\n",
       "      <th>term</th>\n",
       "      <th>interestRate</th>\n",
       "      <th>installment</th>\n",
       "      <th>grade</th>\n",
       "      <th>subGrade</th>\n",
       "      <th>employmentTitle</th>\n",
       "      <th>employmentLength</th>\n",
       "      <th>homeOwnership</th>\n",
       "      <th>...</th>\n",
       "      <th>n5</th>\n",
       "      <th>n6</th>\n",
       "      <th>n7</th>\n",
       "      <th>n8</th>\n",
       "      <th>n9</th>\n",
       "      <th>n10</th>\n",
       "      <th>n11</th>\n",
       "      <th>n12</th>\n",
       "      <th>n13</th>\n",
       "      <th>n14</th>\n",
       "    </tr>\n",
       "  </thead>\n",
       "  <tbody>\n",
       "    <tr>\n",
       "      <th>0</th>\n",
       "      <td>212188</td>\n",
       "      <td>4300.0</td>\n",
       "      <td>3</td>\n",
       "      <td>16.99</td>\n",
       "      <td>153.29</td>\n",
       "      <td>D</td>\n",
       "      <td>D3</td>\n",
       "      <td>54.0</td>\n",
       "      <td>NaN</td>\n",
       "      <td>1</td>\n",
       "      <td>...</td>\n",
       "      <td>3.0</td>\n",
       "      <td>9.0</td>\n",
       "      <td>3.0</td>\n",
       "      <td>6.0</td>\n",
       "      <td>2.0</td>\n",
       "      <td>3.0</td>\n",
       "      <td>0.0</td>\n",
       "      <td>0.0</td>\n",
       "      <td>0.0</td>\n",
       "      <td>3.0</td>\n",
       "    </tr>\n",
       "    <tr>\n",
       "      <th>1</th>\n",
       "      <td>299036</td>\n",
       "      <td>28000.0</td>\n",
       "      <td>3</td>\n",
       "      <td>5.32</td>\n",
       "      <td>843.22</td>\n",
       "      <td>A</td>\n",
       "      <td>A1</td>\n",
       "      <td>160.0</td>\n",
       "      <td>10+ years</td>\n",
       "      <td>0</td>\n",
       "      <td>...</td>\n",
       "      <td>8.0</td>\n",
       "      <td>23.0</td>\n",
       "      <td>8.0</td>\n",
       "      <td>19.0</td>\n",
       "      <td>3.0</td>\n",
       "      <td>11.0</td>\n",
       "      <td>0.0</td>\n",
       "      <td>0.0</td>\n",
       "      <td>0.0</td>\n",
       "      <td>0.0</td>\n",
       "    </tr>\n",
       "    <tr>\n",
       "      <th>2</th>\n",
       "      <td>475978</td>\n",
       "      <td>13000.0</td>\n",
       "      <td>3</td>\n",
       "      <td>17.57</td>\n",
       "      <td>467.19</td>\n",
       "      <td>D</td>\n",
       "      <td>D4</td>\n",
       "      <td>6426.0</td>\n",
       "      <td>10+ years</td>\n",
       "      <td>0</td>\n",
       "      <td>...</td>\n",
       "      <td>10.0</td>\n",
       "      <td>21.0</td>\n",
       "      <td>9.0</td>\n",
       "      <td>15.0</td>\n",
       "      <td>6.0</td>\n",
       "      <td>18.0</td>\n",
       "      <td>0.0</td>\n",
       "      <td>0.0</td>\n",
       "      <td>0.0</td>\n",
       "      <td>5.0</td>\n",
       "    </tr>\n",
       "    <tr>\n",
       "      <th>3</th>\n",
       "      <td>588988</td>\n",
       "      <td>10000.0</td>\n",
       "      <td>3</td>\n",
       "      <td>7.59</td>\n",
       "      <td>311.48</td>\n",
       "      <td>A</td>\n",
       "      <td>A3</td>\n",
       "      <td>62512.0</td>\n",
       "      <td>3 years</td>\n",
       "      <td>1</td>\n",
       "      <td>...</td>\n",
       "      <td>4.0</td>\n",
       "      <td>4.0</td>\n",
       "      <td>6.0</td>\n",
       "      <td>8.0</td>\n",
       "      <td>5.0</td>\n",
       "      <td>6.0</td>\n",
       "      <td>0.0</td>\n",
       "      <td>0.0</td>\n",
       "      <td>0.0</td>\n",
       "      <td>1.0</td>\n",
       "    </tr>\n",
       "    <tr>\n",
       "      <th>4</th>\n",
       "      <td>138859</td>\n",
       "      <td>7000.0</td>\n",
       "      <td>3</td>\n",
       "      <td>10.08</td>\n",
       "      <td>226.14</td>\n",
       "      <td>B</td>\n",
       "      <td>B1</td>\n",
       "      <td>118.0</td>\n",
       "      <td>4 years</td>\n",
       "      <td>0</td>\n",
       "      <td>...</td>\n",
       "      <td>4.0</td>\n",
       "      <td>11.0</td>\n",
       "      <td>5.0</td>\n",
       "      <td>12.0</td>\n",
       "      <td>2.0</td>\n",
       "      <td>9.0</td>\n",
       "      <td>0.0</td>\n",
       "      <td>0.0</td>\n",
       "      <td>0.0</td>\n",
       "      <td>1.0</td>\n",
       "    </tr>\n",
       "  </tbody>\n",
       "</table>\n",
       "<p>5 rows × 47 columns</p>\n",
       "</div>"
      ],
      "text/plain": [
       "       id  loanAmnt  term  interestRate  installment grade subGrade  \\\n",
       "0  212188    4300.0     3         16.99       153.29     D       D3   \n",
       "1  299036   28000.0     3          5.32       843.22     A       A1   \n",
       "2  475978   13000.0     3         17.57       467.19     D       D4   \n",
       "3  588988   10000.0     3          7.59       311.48     A       A3   \n",
       "4  138859    7000.0     3         10.08       226.14     B       B1   \n",
       "\n",
       "   employmentTitle employmentLength  homeOwnership  ...    n5    n6   n7  \\\n",
       "0             54.0              NaN              1  ...   3.0   9.0  3.0   \n",
       "1            160.0        10+ years              0  ...   8.0  23.0  8.0   \n",
       "2           6426.0        10+ years              0  ...  10.0  21.0  9.0   \n",
       "3          62512.0          3 years              1  ...   4.0   4.0  6.0   \n",
       "4            118.0          4 years              0  ...   4.0  11.0  5.0   \n",
       "\n",
       "     n8   n9   n10  n11  n12  n13  n14  \n",
       "0   6.0  2.0   3.0  0.0  0.0  0.0  3.0  \n",
       "1  19.0  3.0  11.0  0.0  0.0  0.0  0.0  \n",
       "2  15.0  6.0  18.0  0.0  0.0  0.0  5.0  \n",
       "3   8.0  5.0   6.0  0.0  0.0  0.0  1.0  \n",
       "4  12.0  2.0   9.0  0.0  0.0  0.0  1.0  \n",
       "\n",
       "[5 rows x 47 columns]"
      ]
     },
     "execution_count": 82,
     "metadata": {},
     "output_type": "execute_result"
    }
   ],
   "source": [
    "trainData_origin = pd.read_csv(\"train.csv\")\n",
    "trainData = trainData_origin.sample(n=7000, random_state=42)\n",
    "trainData.head()\n",
    "trainData.to_csv(\"train_data_subset.csv\", index=False)\n",
    "\n",
    "trainData = pd.read_csv(\"train_data_subset.csv\")\n",
    "trainData.head()"
   ]
  },
  {
   "cell_type": "code",
   "execution_count": 83,
   "id": "98966234",
   "metadata": {},
   "outputs": [
    {
     "data": {
      "text/plain": [
       "(7000, 47)"
      ]
     },
     "execution_count": 83,
     "metadata": {},
     "output_type": "execute_result"
    }
   ],
   "source": [
    "trainData.shape"
   ]
  },
  {
   "cell_type": "code",
   "execution_count": 84,
   "id": "ffcaafdb",
   "metadata": {},
   "outputs": [],
   "source": [
    "#trainData = trainData.head(100000)"
   ]
  },
  {
   "cell_type": "code",
   "execution_count": 85,
   "id": "b4a1c6e4",
   "metadata": {},
   "outputs": [
    {
     "name": "stdout",
     "output_type": "stream",
     "text": [
      "<class 'pandas.core.frame.DataFrame'>\n",
      "RangeIndex: 7000 entries, 0 to 6999\n",
      "Data columns (total 47 columns):\n",
      " #   Column              Non-Null Count  Dtype  \n",
      "---  ------              --------------  -----  \n",
      " 0   id                  7000 non-null   int64  \n",
      " 1   loanAmnt            7000 non-null   float64\n",
      " 2   term                7000 non-null   int64  \n",
      " 3   interestRate        7000 non-null   float64\n",
      " 4   installment         7000 non-null   float64\n",
      " 5   grade               7000 non-null   object \n",
      " 6   subGrade            7000 non-null   object \n",
      " 7   employmentTitle     7000 non-null   float64\n",
      " 8   employmentLength    6580 non-null   object \n",
      " 9   homeOwnership       7000 non-null   int64  \n",
      " 10  annualIncome        7000 non-null   float64\n",
      " 11  verificationStatus  7000 non-null   int64  \n",
      " 12  issueDate           7000 non-null   object \n",
      " 13  isDefault           7000 non-null   int64  \n",
      " 14  purpose             7000 non-null   int64  \n",
      " 15  postCode            7000 non-null   float64\n",
      " 16  regionCode          7000 non-null   int64  \n",
      " 17  dti                 6999 non-null   float64\n",
      " 18  delinquency_2years  7000 non-null   float64\n",
      " 19  ficoRangeLow        7000 non-null   float64\n",
      " 20  ficoRangeHigh       7000 non-null   float64\n",
      " 21  openAcc             7000 non-null   float64\n",
      " 22  pubRec              7000 non-null   float64\n",
      " 23  pubRecBankruptcies  6998 non-null   float64\n",
      " 24  revolBal            7000 non-null   float64\n",
      " 25  revolUtil           6997 non-null   float64\n",
      " 26  totalAcc            7000 non-null   float64\n",
      " 27  initialListStatus   7000 non-null   int64  \n",
      " 28  applicationType     7000 non-null   int64  \n",
      " 29  earliesCreditLine   7000 non-null   object \n",
      " 30  title               7000 non-null   float64\n",
      " 31  policyCode          7000 non-null   float64\n",
      " 32  n0                  6649 non-null   float64\n",
      " 33  n1                  6649 non-null   float64\n",
      " 34  n2                  6649 non-null   float64\n",
      " 35  n3                  6649 non-null   float64\n",
      " 36  n4                  6707 non-null   float64\n",
      " 37  n5                  6649 non-null   float64\n",
      " 38  n6                  6649 non-null   float64\n",
      " 39  n7                  6649 non-null   float64\n",
      " 40  n8                  6649 non-null   float64\n",
      " 41  n9                  6649 non-null   float64\n",
      " 42  n10                 6707 non-null   float64\n",
      " 43  n11                 6393 non-null   float64\n",
      " 44  n12                 6649 non-null   float64\n",
      " 45  n13                 6649 non-null   float64\n",
      " 46  n14                 6649 non-null   float64\n",
      "dtypes: float64(33), int64(9), object(5)\n",
      "memory usage: 2.5+ MB\n"
     ]
    }
   ],
   "source": [
    "trainData.info()"
   ]
  },
  {
   "cell_type": "code",
   "execution_count": 86,
   "id": "af5aa3bc",
   "metadata": {},
   "outputs": [
    {
     "data": {
      "text/plain": [
       "0    5663\n",
       "1    1337\n",
       "Name: isDefault, dtype: int64"
      ]
     },
     "execution_count": 86,
     "metadata": {},
     "output_type": "execute_result"
    }
   ],
   "source": [
    "trainData[\"isDefault\"].value_counts()"
   ]
  },
  {
   "cell_type": "code",
   "execution_count": 87,
   "id": "30b05a12",
   "metadata": {},
   "outputs": [
    {
     "data": {
      "image/png": "[encoded data removed]",
      "text/plain": [
       "<Figure size 640x480 with 1 Axes>"
      ]
     },
     "metadata": {},
     "output_type": "display_data"
    }
   ],
   "source": [
    "plt.hist(trainData['dti'], bins=60, color='blue', alpha=0.7)\n",
    "plt.title('Distribution of DTI (Debt-to-Income Ratio)')\n",
    "plt.xlabel('DTI Ratio')\n",
    "plt.ylabel('Frequency')\n",
    "plt.grid(True)\n",
    "plt.show()"
   ]
  },
  {
   "cell_type": "code",
   "execution_count": 88,
   "id": "6f13348f",
   "metadata": {},
   "outputs": [],
   "source": [
    "trainData['earliesCreditLine'] = pd.to_datetime(trainData['earliesCreditLine'], format='%b-%Y')\n",
    "\n",
    "specific_now = pd.Timestamp('2023-12')\n",
    "\n",
    "# 计算每个借款人从信用历史开始到特定日期（2023年12月）的月份数\n",
    "\n",
    "# trainData['CreditHistoryLength_months'] = (specific_now.year - trainData['earliesCreditLine'].dt.year) * 12 + specific_now.month - trainData['earliesCreditLine'].dt.month\n",
    "# trainData = trainData.drop([\"earliesCreditLine\"], axis = 1)\n",
    "\n",
    "trainData['earliesCreditLine'] = (specific_now.year - trainData['earliesCreditLine'].dt.year) * 12 + specific_now.month - trainData['earliesCreditLine'].dt.month\n",
    "\n",
    "\n",
    "trainData['issueDate'] = pd.to_datetime(trainData['issueDate'])\n",
    "trainData['issueYear'] = trainData['issueDate'].dt.year\n",
    "trainData['issueMonth'] = trainData['issueDate'].dt.month\n",
    "trainData['issueDay'] = trainData['issueDate'].dt.day\n",
    "trainData = trainData.drop([\"issueDate\"], axis = 1)\n",
    "\n",
    "\n",
    "trainData['employmentLength'].fillna('0 years', inplace=True)\n",
    "\n",
    "\n",
    "def convert_employment_length(length_str):\n",
    "    if length_str.strip() == '10+ years':\n",
    "        return 10  \n",
    "    else:\n",
    "        \n",
    "        return int(length_str.strip().replace(' years', '').replace(' year', '').replace('< 1', '0'))\n",
    "\n",
    "\n",
    "trainData['employmentLength'] = trainData['employmentLength'].apply(convert_employment_length)\n",
    "\n",
    "\n",
    "grade_mapping = {\n",
    "    'A': 7,\n",
    "    'B': 6,\n",
    "    'C': 5,\n",
    "    'D': 4,\n",
    "    'E': 3,\n",
    "    'F': 2,\n",
    "    'G': 1\n",
    "}\n",
    "\n",
    "\n",
    "trainData['grade'] = trainData['grade'].map(grade_mapping)\n",
    "\n",
    "subgrade_mapping = {\n",
    "    'A': 70,\n",
    "    'B': 60,\n",
    "    'C': 50,\n",
    "    'D': 40,\n",
    "    'E': 30,\n",
    "    'F': 20,\n",
    "    'G': 10,\n",
    "}\n",
    "\n",
    "\n",
    "def convert_grade(grade_str):\n",
    "    if pd.isna(grade_str):\n",
    "        return None  \n",
    "\n",
    "    letter = grade_str[0]\n",
    "    number = int(grade_str[1:])\n",
    " \n",
    "    return subgrade_mapping[letter] + number - 1 \n",
    "\n",
    "trainData['subGrade'] = trainData['subGrade'].apply(convert_grade)\n",
    "\n",
    "\n",
    "\n",
    "min_loan_amt = int(np.floor(trainData['loanAmnt'].min() / 2000) * 2000)\n",
    "max_loan_amt = int(np.ceil(trainData['loanAmnt'].max() / 2000) * 2000)\n",
    "\n",
    "\n",
    "bins = list(range(min_loan_amt, max_loan_amt + 2000, 2000))\n",
    "\n",
    "\n",
    "labels = [i + 2000 for i in bins[:-1]]  \n",
    "\n",
    "trainData['loanAmnt_category'] = pd.cut(trainData['loanAmnt'], bins=bins, right=False, labels=labels)\n",
    "\n",
    "\n",
    "\n",
    "trainData['loanAmnt_category'] = trainData['loanAmnt_category'].cat.add_categories(0)\n",
    "\n",
    "\n",
    "trainData = trainData.fillna(0)\n",
    "trainData['loanAmnt_category'] = trainData['loanAmnt_category'].astype(int)\n",
    "\n",
    "\n"
   ]
  },
  {
   "cell_type": "code",
   "execution_count": 89,
   "id": "becc3557",
   "metadata": {},
   "outputs": [
    {
     "data": {
      "text/plain": [
       "0        6000\n",
       "1       30000\n",
       "2       14000\n",
       "3       12000\n",
       "4        8000\n",
       "        ...  \n",
       "6995    18000\n",
       "6996    18000\n",
       "6997     6000\n",
       "6998     8000\n",
       "6999    22000\n",
       "Name: loanAmnt_category, Length: 7000, dtype: int32"
      ]
     },
     "execution_count": 89,
     "metadata": {},
     "output_type": "execute_result"
    }
   ],
   "source": [
    "trainData['loanAmnt_category']"
   ]
  },
  {
   "cell_type": "code",
   "execution_count": 90,
   "id": "0e0e0a90",
   "metadata": {},
   "outputs": [
    {
     "name": "stdout",
     "output_type": "stream",
     "text": [
      "<class 'pandas.core.frame.DataFrame'>\n",
      "RangeIndex: 7000 entries, 0 to 6999\n",
      "Data columns (total 50 columns):\n",
      " #   Column              Non-Null Count  Dtype  \n",
      "---  ------              --------------  -----  \n",
      " 0   id                  7000 non-null   int64  \n",
      " 1   loanAmnt            7000 non-null   float64\n",
      " 2   term                7000 non-null   int64  \n",
      " 3   interestRate        7000 non-null   float64\n",
      " 4   installment         7000 non-null   float64\n",
      " 5   grade               7000 non-null   int64  \n",
      " 6   subGrade            7000 non-null   int64  \n",
      " 7   employmentTitle     7000 non-null   float64\n",
      " 8   employmentLength    7000 non-null   int64  \n",
      " 9   homeOwnership       7000 non-null   int64  \n",
      " 10  annualIncome        7000 non-null   float64\n",
      " 11  verificationStatus  7000 non-null   int64  \n",
      " 12  isDefault           7000 non-null   int64  \n",
      " 13  purpose             7000 non-null   int64  \n",
      " 14  postCode            7000 non-null   float64\n",
      " 15  regionCode          7000 non-null   int64  \n",
      " 16  dti                 7000 non-null   float64\n",
      " 17  delinquency_2years  7000 non-null   float64\n",
      " 18  ficoRangeLow        7000 non-null   float64\n",
      " 19  ficoRangeHigh       7000 non-null   float64\n",
      " 20  openAcc             7000 non-null   float64\n",
      " 21  pubRec              7000 non-null   float64\n",
      " 22  pubRecBankruptcies  7000 non-null   float64\n",
      " 23  revolBal            7000 non-null   float64\n",
      " 24  revolUtil           7000 non-null   float64\n",
      " 25  totalAcc            7000 non-null   float64\n",
      " 26  initialListStatus   7000 non-null   int64  \n",
      " 27  applicationType     7000 non-null   int64  \n",
      " 28  earliesCreditLine   7000 non-null   int64  \n",
      " 29  title               7000 non-null   float64\n",
      " 30  policyCode          7000 non-null   float64\n",
      " 31  n0                  7000 non-null   float64\n",
      " 32  n1                  7000 non-null   float64\n",
      " 33  n2                  7000 non-null   float64\n",
      " 34  n3                  7000 non-null   float64\n",
      " 35  n4                  7000 non-null   float64\n",
      " 36  n5                  7000 non-null   float64\n",
      " 37  n6                  7000 non-null   float64\n",
      " 38  n7                  7000 non-null   float64\n",
      " 39  n8                  7000 non-null   float64\n",
      " 40  n9                  7000 non-null   float64\n",
      " 41  n10                 7000 non-null   float64\n",
      " 42  n11                 7000 non-null   float64\n",
      " 43  n12                 7000 non-null   float64\n",
      " 44  n13                 7000 non-null   float64\n",
      " 45  n14                 7000 non-null   float64\n",
      " 46  issueYear           7000 non-null   int64  \n",
      " 47  issueMonth          7000 non-null   int64  \n",
      " 48  issueDay            7000 non-null   int64  \n",
      " 49  loanAmnt_category   7000 non-null   int32  \n",
      "dtypes: float64(33), int32(1), int64(16)\n",
      "memory usage: 2.6 MB\n"
     ]
    }
   ],
   "source": [
    "trainData.info()"
   ]
  },
  {
   "cell_type": "markdown",
   "id": "e30475b6",
   "metadata": {},
   "source": [
    "# Finish data cleaning, create graph structure for data"
   ]
  },
  {
   "cell_type": "markdown",
   "id": "2c567d9f",
   "metadata": {},
   "source": [
    "1.  linking loans(nodes) based on credit grade"
   ]
  },
  {
   "cell_type": "code",
   "execution_count": 91,
   "id": "bc2b11ac",
   "metadata": {},
   "outputs": [],
   "source": [
    "import pandas as pd\n",
    "import numpy as np\n",
    "from scipy.sparse import coo_matrix\n",
    "from scipy.io import savemat\n",
    "\n",
    "grouped = trainData.groupby('subGrade').apply(lambda x: x.index.to_numpy())\n",
    "\n",
    "\n",
    "data = []\n",
    "row_indices = []\n",
    "col_indices = []\n",
    "\n",
    "\n",
    "for indices in grouped:\n",
    "    if len(indices) > 1:\n",
    "        ix_grid = np.triu_indices(len(indices), 1)\n",
    "        row_indices.append(indices[ix_grid[0]])\n",
    "        col_indices.append(indices[ix_grid[1]])\n",
    "        data.append(np.ones(len(indices[ix_grid[0]]), dtype=int))\n",
    "\n",
    "\n",
    "data = np.concatenate(data)\n",
    "row_indices = np.concatenate(row_indices)\n",
    "col_indices = np.concatenate(col_indices)\n",
    "\n",
    "max_index = trainData.index.max() + 1\n",
    "adjacency_matrix_grade = coo_matrix((data, (row_indices, col_indices)), shape=(max_index, max_index))\n",
    "\n",
    "\n",
    "\n"
   ]
  },
  {
   "cell_type": "code",
   "execution_count": 92,
   "id": "6295edb7",
   "metadata": {},
   "outputs": [
    {
     "name": "stdout",
     "output_type": "stream",
     "text": [
      "Adjacency matrix saved to adjacency_grade.mat\n"
     ]
    }
   ],
   "source": [
    "mat_file_path = 'adjacency_grade.mat'\n",
    "savemat(mat_file_path, {'net_tgt': adjacency_matrix_grade})\n",
    "\n",
    "\n",
    "print(f\"Adjacency matrix saved to {mat_file_path}\")"
   ]
  },
  {
   "cell_type": "code",
   "execution_count": 93,
   "id": "2d1b0ae6",
   "metadata": {},
   "outputs": [
    {
     "name": "stdout",
     "output_type": "stream",
     "text": [
      "(7000, 7000)\n"
     ]
    }
   ],
   "source": [
    "print(adjacency_matrix_grade.shape)"
   ]
  },
  {
   "cell_type": "markdown",
   "id": "eec94ca8",
   "metadata": {},
   "source": [
    "2.  linking loans(nodes) based on purpose"
   ]
  },
  {
   "cell_type": "code",
   "execution_count": 94,
   "id": "edb64845",
   "metadata": {},
   "outputs": [
    {
     "data": {
      "text/plain": [
       "array([ 0,  4,  2,  3,  5,  8,  6,  9, 11, 10,  7,  1, 12, 13],\n",
       "      dtype=int64)"
      ]
     },
     "execution_count": 94,
     "metadata": {},
     "output_type": "execute_result"
    }
   ],
   "source": [
    "trainData[\"purpose\"].unique()"
   ]
  },
  {
   "cell_type": "code",
   "execution_count": 95,
   "id": "2e72300c",
   "metadata": {},
   "outputs": [],
   "source": [
    "import pandas as pd\n",
    "import numpy as np\n",
    "from scipy.sparse import coo_matrix\n",
    "from scipy.io import savemat\n",
    "\n",
    "grouped = trainData.groupby('purpose').apply(lambda x: x.index.to_numpy())\n",
    "\n",
    "\n",
    "data = []\n",
    "row_indices = []\n",
    "col_indices = []\n",
    "\n",
    "for indices in grouped:\n",
    "    if len(indices) > 1:\n",
    "        \n",
    "        ix_grid = np.triu_indices(len(indices), 1)\n",
    "        row_indices.append(indices[ix_grid[0]])\n",
    "        col_indices.append(indices[ix_grid[1]])\n",
    "        data.append(np.ones(len(indices[ix_grid[0]]), dtype=int))\n",
    "\n",
    "\n",
    "data = np.concatenate(data)\n",
    "row_indices = np.concatenate(row_indices)\n",
    "col_indices = np.concatenate(col_indices)\n",
    "\n",
    "max_index = trainData.index.max() + 1\n",
    "adjacency_matrix_purpose = coo_matrix((data, (row_indices, col_indices)), shape=(max_index, max_index))\n",
    "\n",
    "\n",
    "\n"
   ]
  },
  {
   "cell_type": "code",
   "execution_count": 96,
   "id": "54bb98b1",
   "metadata": {},
   "outputs": [
    {
     "name": "stdout",
     "output_type": "stream",
     "text": [
      "(7000, 7000)\n"
     ]
    }
   ],
   "source": [
    "print(adjacency_matrix_purpose.shape)"
   ]
  },
  {
   "cell_type": "code",
   "execution_count": 97,
   "id": "27d41342",
   "metadata": {},
   "outputs": [
    {
     "name": "stdout",
     "output_type": "stream",
     "text": [
      "Adjacency matrix saved to adjacency_purpose.mat\n"
     ]
    }
   ],
   "source": [
    "mat_file_path = 'adjacency_purpose.mat'\n",
    "savemat(mat_file_path, {'net_tpt': adjacency_matrix_purpose})\n",
    "\n",
    "print(f\"Adjacency matrix saved to {mat_file_path}\")"
   ]
  },
  {
   "cell_type": "markdown",
   "id": "73917f5d",
   "metadata": {},
   "source": [
    "3.  linking loans(nodes) based on postCode"
   ]
  },
  {
   "cell_type": "code",
   "execution_count": 99,
   "id": "50cc3eff",
   "metadata": {},
   "outputs": [],
   "source": [
    "import pandas as pd\n",
    "import numpy as np\n",
    "from scipy.sparse import coo_matrix\n",
    "from scipy.io import savemat\n",
    "\n",
    "grouped = trainData.groupby('postCode').apply(lambda x: x.index.to_numpy())\n",
    "\n",
    "data = []\n",
    "row_indices = []\n",
    "col_indices = []\n",
    "\n",
    "for indices in grouped:\n",
    "    if len(indices) > 1:\n",
    "        ix_grid = np.triu_indices(len(indices), 1)\n",
    "        row_indices.append(indices[ix_grid[0]])\n",
    "        col_indices.append(indices[ix_grid[1]])\n",
    "        data.append(np.ones(len(indices[ix_grid[0]]), dtype=int))\n",
    "\n",
    "data = np.concatenate(data)\n",
    "row_indices = np.concatenate(row_indices)\n",
    "col_indices = np.concatenate(col_indices)\n",
    "\n",
    "max_index = trainData.index.max() + 1\n",
    "adjacency_matrix_geo = coo_matrix((data, (row_indices, col_indices)), shape=(max_index, max_index))\n"
   ]
  },
  {
   "cell_type": "code",
   "execution_count": 100,
   "id": "b1341250",
   "metadata": {},
   "outputs": [
    {
     "name": "stdout",
     "output_type": "stream",
     "text": [
      "Adjacency matrix saved to adjacency_geo.mat\n"
     ]
    }
   ],
   "source": [
    "mat_file_path = 'adjacency_geo.mat'\n",
    "savemat(mat_file_path, {'net_trt': adjacency_matrix_geo})\n",
    "\n",
    "print(f\"Adjacency matrix saved to {mat_file_path}\")"
   ]
  },
  {
   "cell_type": "markdown",
   "id": "ab3e792a",
   "metadata": {},
   "source": [
    "4. linking loans(nodes) based on loan amount ranges"
   ]
  },
  {
   "cell_type": "code",
   "execution_count": 101,
   "id": "3430aac4",
   "metadata": {},
   "outputs": [
    {
     "data": {
      "text/plain": [
       "0        6000\n",
       "1       30000\n",
       "2       14000\n",
       "3       12000\n",
       "4        8000\n",
       "        ...  \n",
       "6995    18000\n",
       "6996    18000\n",
       "6997     6000\n",
       "6998     8000\n",
       "6999    22000\n",
       "Name: loanAmnt_category, Length: 7000, dtype: int32"
      ]
     },
     "execution_count": 101,
     "metadata": {},
     "output_type": "execute_result"
    }
   ],
   "source": [
    "trainData[\"loanAmnt_category\"]"
   ]
  },
  {
   "cell_type": "code",
   "execution_count": 102,
   "id": "44fe79a7",
   "metadata": {},
   "outputs": [],
   "source": [
    "import pandas as pd\n",
    "import numpy as np\n",
    "from scipy.sparse import coo_matrix\n",
    "from scipy.io import savemat\n",
    "\n",
    "grouped = trainData.groupby('loanAmnt_category').apply(lambda x: x.index.to_numpy())\n",
    "\n",
    "\n",
    "data = []\n",
    "row_indices = []\n",
    "col_indices = []\n",
    "\n",
    "\n",
    "for indices in grouped:\n",
    "    if len(indices) > 1:\n",
    "        ix_grid = np.triu_indices(len(indices), 1)\n",
    "        row_indices.append(indices[ix_grid[0]])\n",
    "        col_indices.append(indices[ix_grid[1]])\n",
    "        data.append(np.ones(len(indices[ix_grid[0]]), dtype=int))\n",
    "\n",
    "\n",
    "data = np.concatenate(data)\n",
    "row_indices = np.concatenate(row_indices)\n",
    "col_indices = np.concatenate(col_indices)\n",
    "\n",
    "\n",
    "max_index = trainData.index.max() + 1\n",
    "adjacency_matrix_loan = coo_matrix((data, (row_indices, col_indices)), shape=(max_index, max_index))"
   ]
  },
  {
   "cell_type": "code",
   "execution_count": 103,
   "id": "c35715a7",
   "metadata": {},
   "outputs": [
    {
     "name": "stdout",
     "output_type": "stream",
     "text": [
      "Adjacency matrix saved to adjacency_loamAmt.mat\n"
     ]
    }
   ],
   "source": [
    "mat_file_path = 'adjacency_loamAmt.mat'\n",
    "savemat(mat_file_path, {'net_tat': adjacency_matrix_loan})\n",
    "\n",
    "print(f\"Adjacency matrix saved to {mat_file_path}\")"
   ]
  },
  {
   "cell_type": "markdown",
   "id": "4bd3c244",
   "metadata": {},
   "source": [
    "5. store labels"
   ]
  },
  {
   "cell_type": "code",
   "execution_count": 104,
   "id": "a0b7bf91",
   "metadata": {},
   "outputs": [
    {
     "data": {
      "text/plain": [
       "0       1\n",
       "1       0\n",
       "2       0\n",
       "3       0\n",
       "4       0\n",
       "       ..\n",
       "6995    0\n",
       "6996    1\n",
       "6997    0\n",
       "6998    0\n",
       "6999    0\n",
       "Name: isDefault, Length: 7000, dtype: int64"
      ]
     },
     "execution_count": 104,
     "metadata": {},
     "output_type": "execute_result"
    }
   ],
   "source": [
    "trainData[\"isDefault\"]"
   ]
  },
  {
   "cell_type": "code",
   "execution_count": 105,
   "id": "b178c01a",
   "metadata": {},
   "outputs": [],
   "source": [
    "from scipy.io import savemat\n",
    "\n",
    "trainData_dict = {\"label\": trainData[\"isDefault\"].values}\n",
    "savemat(\"label.mat\", trainData_dict)\n"
   ]
  },
  {
   "cell_type": "code",
   "execution_count": 106,
   "id": "493eac3a",
   "metadata": {},
   "outputs": [
    {
     "name": "stdout",
     "output_type": "stream",
     "text": [
      "<class 'pandas.core.frame.DataFrame'>\n",
      "RangeIndex: 7000 entries, 0 to 6999\n",
      "Data columns (total 50 columns):\n",
      " #   Column              Non-Null Count  Dtype  \n",
      "---  ------              --------------  -----  \n",
      " 0   id                  7000 non-null   int64  \n",
      " 1   loanAmnt            7000 non-null   float64\n",
      " 2   term                7000 non-null   int64  \n",
      " 3   interestRate        7000 non-null   float64\n",
      " 4   installment         7000 non-null   float64\n",
      " 5   grade               7000 non-null   int64  \n",
      " 6   subGrade            7000 non-null   int64  \n",
      " 7   employmentTitle     7000 non-null   float64\n",
      " 8   employmentLength    7000 non-null   int64  \n",
      " 9   homeOwnership       7000 non-null   int64  \n",
      " 10  annualIncome        7000 non-null   float64\n",
      " 11  verificationStatus  7000 non-null   int64  \n",
      " 12  isDefault           7000 non-null   int64  \n",
      " 13  purpose             7000 non-null   int64  \n",
      " 14  postCode            7000 non-null   float64\n",
      " 15  regionCode          7000 non-null   int64  \n",
      " 16  dti                 7000 non-null   float64\n",
      " 17  delinquency_2years  7000 non-null   float64\n",
      " 18  ficoRangeLow        7000 non-null   float64\n",
      " 19  ficoRangeHigh       7000 non-null   float64\n",
      " 20  openAcc             7000 non-null   float64\n",
      " 21  pubRec              7000 non-null   float64\n",
      " 22  pubRecBankruptcies  7000 non-null   float64\n",
      " 23  revolBal            7000 non-null   float64\n",
      " 24  revolUtil           7000 non-null   float64\n",
      " 25  totalAcc            7000 non-null   float64\n",
      " 26  initialListStatus   7000 non-null   int64  \n",
      " 27  applicationType     7000 non-null   int64  \n",
      " 28  earliesCreditLine   7000 non-null   int64  \n",
      " 29  title               7000 non-null   float64\n",
      " 30  policyCode          7000 non-null   float64\n",
      " 31  n0                  7000 non-null   float64\n",
      " 32  n1                  7000 non-null   float64\n",
      " 33  n2                  7000 non-null   float64\n",
      " 34  n3                  7000 non-null   float64\n",
      " 35  n4                  7000 non-null   float64\n",
      " 36  n5                  7000 non-null   float64\n",
      " 37  n6                  7000 non-null   float64\n",
      " 38  n7                  7000 non-null   float64\n",
      " 39  n8                  7000 non-null   float64\n",
      " 40  n9                  7000 non-null   float64\n",
      " 41  n10                 7000 non-null   float64\n",
      " 42  n11                 7000 non-null   float64\n",
      " 43  n12                 7000 non-null   float64\n",
      " 44  n13                 7000 non-null   float64\n",
      " 45  n14                 7000 non-null   float64\n",
      " 46  issueYear           7000 non-null   int64  \n",
      " 47  issueMonth          7000 non-null   int64  \n",
      " 48  issueDay            7000 non-null   int64  \n",
      " 49  loanAmnt_category   7000 non-null   int32  \n",
      "dtypes: float64(33), int32(1), int64(16)\n",
      "memory usage: 2.6 MB\n"
     ]
    }
   ],
   "source": [
    "trainData.info()"
   ]
  },
  {
   "cell_type": "code",
   "execution_count": 107,
   "id": "933b98a8",
   "metadata": {},
   "outputs": [
    {
     "name": "stdout",
     "output_type": "stream",
     "text": [
      "<class 'pandas.core.frame.DataFrame'>\n",
      "RangeIndex: 7000 entries, 0 to 6999\n",
      "Data columns (total 48 columns):\n",
      " #   Column              Non-Null Count  Dtype  \n",
      "---  ------              --------------  -----  \n",
      " 0   loanAmnt            7000 non-null   float64\n",
      " 1   term                7000 non-null   int64  \n",
      " 2   interestRate        7000 non-null   float64\n",
      " 3   installment         7000 non-null   float64\n",
      " 4   grade               7000 non-null   int64  \n",
      " 5   subGrade            7000 non-null   int64  \n",
      " 6   employmentTitle     7000 non-null   float64\n",
      " 7   employmentLength    7000 non-null   int64  \n",
      " 8   homeOwnership       7000 non-null   int64  \n",
      " 9   annualIncome        7000 non-null   float64\n",
      " 10  verificationStatus  7000 non-null   int64  \n",
      " 11  purpose             7000 non-null   int64  \n",
      " 12  postCode            7000 non-null   float64\n",
      " 13  regionCode          7000 non-null   int64  \n",
      " 14  dti                 7000 non-null   float64\n",
      " 15  delinquency_2years  7000 non-null   float64\n",
      " 16  ficoRangeLow        7000 non-null   float64\n",
      " 17  ficoRangeHigh       7000 non-null   float64\n",
      " 18  openAcc             7000 non-null   float64\n",
      " 19  pubRec              7000 non-null   float64\n",
      " 20  pubRecBankruptcies  7000 non-null   float64\n",
      " 21  revolBal            7000 non-null   float64\n",
      " 22  revolUtil           7000 non-null   float64\n",
      " 23  totalAcc            7000 non-null   float64\n",
      " 24  initialListStatus   7000 non-null   int64  \n",
      " 25  applicationType     7000 non-null   int64  \n",
      " 26  earliesCreditLine   7000 non-null   int64  \n",
      " 27  title               7000 non-null   float64\n",
      " 28  policyCode          7000 non-null   float64\n",
      " 29  n0                  7000 non-null   float64\n",
      " 30  n1                  7000 non-null   float64\n",
      " 31  n2                  7000 non-null   float64\n",
      " 32  n3                  7000 non-null   float64\n",
      " 33  n4                  7000 non-null   float64\n",
      " 34  n5                  7000 non-null   float64\n",
      " 35  n6                  7000 non-null   float64\n",
      " 36  n7                  7000 non-null   float64\n",
      " 37  n8                  7000 non-null   float64\n",
      " 38  n9                  7000 non-null   float64\n",
      " 39  n10                 7000 non-null   float64\n",
      " 40  n11                 7000 non-null   float64\n",
      " 41  n12                 7000 non-null   float64\n",
      " 42  n13                 7000 non-null   float64\n",
      " 43  n14                 7000 non-null   float64\n",
      " 44  issueYear           7000 non-null   int64  \n",
      " 45  issueMonth          7000 non-null   int64  \n",
      " 46  issueDay            7000 non-null   int64  \n",
      " 47  loanAmnt_category   7000 non-null   int32  \n",
      "dtypes: float64(33), int32(1), int64(14)\n",
      "memory usage: 2.5 MB\n"
     ]
    }
   ],
   "source": [
    "trainData_features = trainData.drop([\"id\",\"isDefault\"], axis = 1)\n",
    "trainData_features.info()"
   ]
  },
  {
   "cell_type": "code",
   "execution_count": 108,
   "id": "4ad82109",
   "metadata": {},
   "outputs": [
    {
     "data": {
      "text/html": [
       "<div>\n",
       "<style scoped>\n",
       "    .dataframe tbody tr th:only-of-type {\n",
       "        vertical-align: middle;\n",
       "    }\n",
       "\n",
       "    .dataframe tbody tr th {\n",
       "        vertical-align: top;\n",
       "    }\n",
       "\n",
       "    .dataframe thead th {\n",
       "        text-align: right;\n",
       "    }\n",
       "</style>\n",
       "<table border=\"1\" class=\"dataframe\">\n",
       "  <thead>\n",
       "    <tr style=\"text-align: right;\">\n",
       "      <th></th>\n",
       "      <th>loanAmnt</th>\n",
       "      <th>term</th>\n",
       "      <th>interestRate</th>\n",
       "      <th>installment</th>\n",
       "      <th>grade</th>\n",
       "      <th>subGrade</th>\n",
       "      <th>employmentTitle</th>\n",
       "      <th>employmentLength</th>\n",
       "      <th>homeOwnership</th>\n",
       "      <th>annualIncome</th>\n",
       "      <th>...</th>\n",
       "      <th>n9</th>\n",
       "      <th>n10</th>\n",
       "      <th>n11</th>\n",
       "      <th>n12</th>\n",
       "      <th>n13</th>\n",
       "      <th>n14</th>\n",
       "      <th>issueYear</th>\n",
       "      <th>issueMonth</th>\n",
       "      <th>issueDay</th>\n",
       "      <th>loanAmnt_category</th>\n",
       "    </tr>\n",
       "  </thead>\n",
       "  <tbody>\n",
       "    <tr>\n",
       "      <th>0</th>\n",
       "      <td>4300.0</td>\n",
       "      <td>3</td>\n",
       "      <td>16.99</td>\n",
       "      <td>153.29</td>\n",
       "      <td>4</td>\n",
       "      <td>42</td>\n",
       "      <td>54.0</td>\n",
       "      <td>0</td>\n",
       "      <td>1</td>\n",
       "      <td>86000.0</td>\n",
       "      <td>...</td>\n",
       "      <td>2.0</td>\n",
       "      <td>3.0</td>\n",
       "      <td>0.0</td>\n",
       "      <td>0.0</td>\n",
       "      <td>0.0</td>\n",
       "      <td>3.0</td>\n",
       "      <td>2014</td>\n",
       "      <td>10</td>\n",
       "      <td>1</td>\n",
       "      <td>6000</td>\n",
       "    </tr>\n",
       "    <tr>\n",
       "      <th>1</th>\n",
       "      <td>28000.0</td>\n",
       "      <td>3</td>\n",
       "      <td>5.32</td>\n",
       "      <td>843.22</td>\n",
       "      <td>7</td>\n",
       "      <td>70</td>\n",
       "      <td>160.0</td>\n",
       "      <td>10</td>\n",
       "      <td>0</td>\n",
       "      <td>106000.0</td>\n",
       "      <td>...</td>\n",
       "      <td>3.0</td>\n",
       "      <td>11.0</td>\n",
       "      <td>0.0</td>\n",
       "      <td>0.0</td>\n",
       "      <td>0.0</td>\n",
       "      <td>0.0</td>\n",
       "      <td>2015</td>\n",
       "      <td>10</td>\n",
       "      <td>1</td>\n",
       "      <td>30000</td>\n",
       "    </tr>\n",
       "    <tr>\n",
       "      <th>2</th>\n",
       "      <td>13000.0</td>\n",
       "      <td>3</td>\n",
       "      <td>17.57</td>\n",
       "      <td>467.19</td>\n",
       "      <td>4</td>\n",
       "      <td>43</td>\n",
       "      <td>6426.0</td>\n",
       "      <td>10</td>\n",
       "      <td>0</td>\n",
       "      <td>39000.0</td>\n",
       "      <td>...</td>\n",
       "      <td>6.0</td>\n",
       "      <td>18.0</td>\n",
       "      <td>0.0</td>\n",
       "      <td>0.0</td>\n",
       "      <td>0.0</td>\n",
       "      <td>5.0</td>\n",
       "      <td>2015</td>\n",
       "      <td>7</td>\n",
       "      <td>1</td>\n",
       "      <td>14000</td>\n",
       "    </tr>\n",
       "    <tr>\n",
       "      <th>3</th>\n",
       "      <td>10000.0</td>\n",
       "      <td>3</td>\n",
       "      <td>7.59</td>\n",
       "      <td>311.48</td>\n",
       "      <td>7</td>\n",
       "      <td>72</td>\n",
       "      <td>62512.0</td>\n",
       "      <td>3</td>\n",
       "      <td>1</td>\n",
       "      <td>50000.0</td>\n",
       "      <td>...</td>\n",
       "      <td>5.0</td>\n",
       "      <td>6.0</td>\n",
       "      <td>0.0</td>\n",
       "      <td>0.0</td>\n",
       "      <td>0.0</td>\n",
       "      <td>1.0</td>\n",
       "      <td>2016</td>\n",
       "      <td>7</td>\n",
       "      <td>1</td>\n",
       "      <td>12000</td>\n",
       "    </tr>\n",
       "    <tr>\n",
       "      <th>4</th>\n",
       "      <td>7000.0</td>\n",
       "      <td>3</td>\n",
       "      <td>10.08</td>\n",
       "      <td>226.14</td>\n",
       "      <td>6</td>\n",
       "      <td>60</td>\n",
       "      <td>118.0</td>\n",
       "      <td>4</td>\n",
       "      <td>0</td>\n",
       "      <td>50000.0</td>\n",
       "      <td>...</td>\n",
       "      <td>2.0</td>\n",
       "      <td>9.0</td>\n",
       "      <td>0.0</td>\n",
       "      <td>0.0</td>\n",
       "      <td>0.0</td>\n",
       "      <td>1.0</td>\n",
       "      <td>2018</td>\n",
       "      <td>8</td>\n",
       "      <td>1</td>\n",
       "      <td>8000</td>\n",
       "    </tr>\n",
       "  </tbody>\n",
       "</table>\n",
       "<p>5 rows × 48 columns</p>\n",
       "</div>"
      ],
      "text/plain": [
       "   loanAmnt  term  interestRate  installment  grade  subGrade  \\\n",
       "0    4300.0     3         16.99       153.29      4        42   \n",
       "1   28000.0     3          5.32       843.22      7        70   \n",
       "2   13000.0     3         17.57       467.19      4        43   \n",
       "3   10000.0     3          7.59       311.48      7        72   \n",
       "4    7000.0     3         10.08       226.14      6        60   \n",
       "\n",
       "   employmentTitle  employmentLength  homeOwnership  annualIncome  ...   n9  \\\n",
       "0             54.0                 0              1       86000.0  ...  2.0   \n",
       "1            160.0                10              0      106000.0  ...  3.0   \n",
       "2           6426.0                10              0       39000.0  ...  6.0   \n",
       "3          62512.0                 3              1       50000.0  ...  5.0   \n",
       "4            118.0                 4              0       50000.0  ...  2.0   \n",
       "\n",
       "    n10  n11  n12  n13  n14  issueYear  issueMonth  issueDay  \\\n",
       "0   3.0  0.0  0.0  0.0  3.0       2014          10         1   \n",
       "1  11.0  0.0  0.0  0.0  0.0       2015          10         1   \n",
       "2  18.0  0.0  0.0  0.0  5.0       2015           7         1   \n",
       "3   6.0  0.0  0.0  0.0  1.0       2016           7         1   \n",
       "4   9.0  0.0  0.0  0.0  1.0       2018           8         1   \n",
       "\n",
       "   loanAmnt_category  \n",
       "0               6000  \n",
       "1              30000  \n",
       "2              14000  \n",
       "3              12000  \n",
       "4               8000  \n",
       "\n",
       "[5 rows x 48 columns]"
      ]
     },
     "execution_count": 108,
     "metadata": {},
     "output_type": "execute_result"
    }
   ],
   "source": [
    "trainData_features.head()"
   ]
  },
  {
   "cell_type": "code",
   "execution_count": 109,
   "id": "777186eb",
   "metadata": {},
   "outputs": [],
   "source": [
    "feature_matrix = trainData_features.values\n",
    "feature_matrix\n",
    "\n",
    "from scipy import io as sio\n",
    "sio.savemat('trainData_features.mat', {'features': feature_matrix})\n"
   ]
  },
  {
   "cell_type": "code",
   "execution_count": 110,
   "id": "79259a8b",
   "metadata": {},
   "outputs": [],
   "source": [
    "from scipy.sparse import csr_matrix, hstack\n",
    "homo_matrix = hstack([adjacency_matrix_grade, adjacency_matrix_purpose,adjacency_matrix_geo,adjacency_matrix_loan])"
   ]
  },
  {
   "cell_type": "code",
   "execution_count": 111,
   "id": "f6cd5404",
   "metadata": {},
   "outputs": [
    {
     "name": "stdout",
     "output_type": "stream",
     "text": [
      "[[0 0 0 0 0]\n",
      " [0 0 0 0 0]\n",
      " [0 0 0 0 0]\n",
      " [0 0 0 0 0]\n",
      " [0 0 0 0 0]]\n"
     ]
    }
   ],
   "source": [
    "print(homo_matrix.toarray()[:5, :5]) \n"
   ]
  },
  {
   "cell_type": "code",
   "execution_count": 112,
   "id": "2a7f39f3",
   "metadata": {},
   "outputs": [],
   "source": [
    "combined_matrix = adjacency_matrix_grade + adjacency_matrix_purpose + adjacency_matrix_geo + adjacency_matrix_loan\n",
    "combined_matrix.data[combined_matrix.data > 1] = 1"
   ]
  },
  {
   "cell_type": "code",
   "execution_count": 113,
   "id": "a6b95bd7",
   "metadata": {},
   "outputs": [
    {
     "name": "stdout",
     "output_type": "stream",
     "text": [
      "[[0 1 1 1 1]\n",
      " [0 0 1 1 1]\n",
      " [0 0 0 1 1]\n",
      " [0 0 0 0 1]\n",
      " [0 0 0 0 0]]\n"
     ]
    }
   ],
   "source": [
    "print(combined_matrix.toarray()[:5, :5])"
   ]
  },
  {
   "cell_type": "code",
   "execution_count": 114,
   "id": "6cda99d9",
   "metadata": {},
   "outputs": [],
   "source": [
    "mat_file_path = 'homo_matrix.mat'\n",
    "\n",
    "savemat(mat_file_path, {'homo': combined_matrix})"
   ]
  },
  {
   "cell_type": "code",
   "execution_count": 115,
   "id": "881296df",
   "metadata": {},
   "outputs": [],
   "source": [
    "mat_file_path = 'AlibabaLoan.mat'\n",
    "\n",
    "label_array = trainData[\"isDefault\"].values.astype(int)\n",
    "\n",
    "matrices_dict = {\n",
    "    'features': feature_matrix,\n",
    "    'label':label_array,\n",
    "    'homo': combined_matrix,\n",
    "    'net_tgt': adjacency_matrix_grade,\n",
    "    'net_tpt': adjacency_matrix_purpose,\n",
    "    'net_trt': adjacency_matrix_geo,\n",
    "    'net_tat': adjacency_matrix_loan,\n",
    "}\n",
    "savemat(mat_file_path, matrices_dict)"
   ]
  },
  {
   "cell_type": "code",
   "execution_count": null,
   "id": "07d4d46f",
   "metadata": {},
   "outputs": [],
   "source": []
  }
 ],
 "metadata": {
  "kernelspec": {
   "display_name": "Python 3 (ipykernel)",
   "language": "python",
   "name": "python3"
  },
  "language_info": {
   "codemirror_mode": {
    "name": "ipython",
    "version": 3
   },
   "file_extension": ".py",
   "mimetype": "text/x-python",
   "name": "python",
   "nbconvert_exporter": "python",
   "pygments_lexer": "ipython3",
   "version": "3.9.13"
  },
  "varInspector": {
   "cols": {
    "lenName": 16,
    "lenType": 16,
    "lenVar": 40
   },
   "kernels_config": {
    "python": {
     "delete_cmd_postfix": "",
     "delete_cmd_prefix": "del ",
     "library": "var_list.py",
     "varRefreshCmd": "print(var_dic_list())"
    },
    "r": {
     "delete_cmd_postfix": ") ",
     "delete_cmd_prefix": "rm(",
     "library": "var_list.r",
     "varRefreshCmd": "cat(var_dic_list()) "
    }
   },
   "types_to_exclude": [
    "module",
    "function",
    "builtin_function_or_method",
    "instance",
    "_Feature"
   ],
   "window_display": false
  }
 },
 "nbformat": 4,
 "nbformat_minor": 5
}
